{
  "nbformat": 4,
  "nbformat_minor": 0,
  "metadata": {
    "colab": {
      "provenance": [],
      "toc_visible": true,
      "authorship_tag": "ABX9TyOPQXZhnC+d61Mvx02l5y3R",
      "include_colab_link": true
    },
    "kernelspec": {
      "name": "python3",
      "display_name": "Python 3"
    },
    "language_info": {
      "name": "python"
    }
  },
  "cells": [
    {
      "cell_type": "markdown",
      "metadata": {
        "id": "view-in-github",
        "colab_type": "text"
      },
      "source": [
        "<a href=\"https://colab.research.google.com/github/Shashankabasani/SPAM-SMS-DETECTION/blob/main/SPAM_SMS_DETECTION.ipynb\" target=\"_parent\"><img src=\"https://colab.research.google.com/assets/colab-badge.svg\" alt=\"Open In Colab\"/></a>"
      ]
    },
    {
      "cell_type": "code",
      "execution_count": 39,
      "metadata": {
        "colab": {
          "base_uri": "https://localhost:8080/"
        },
        "id": "_G1QBdQE1XiC",
        "outputId": "42b60ee3-041d-40f4-a994-de94dd9cc062"
      },
      "outputs": [
        {
          "output_type": "stream",
          "name": "stdout",
          "text": [
            "Requirement already satisfied: numpy in /usr/local/lib/python3.10/dist-packages (1.25.2)\n",
            "Requirement already satisfied: pandas in /usr/local/lib/python3.10/dist-packages (1.5.3)\n",
            "Requirement already satisfied: scikit-learn in /usr/local/lib/python3.10/dist-packages (1.2.2)\n",
            "Requirement already satisfied: python-dateutil>=2.8.1 in /usr/local/lib/python3.10/dist-packages (from pandas) (2.8.2)\n",
            "Requirement already satisfied: pytz>=2020.1 in /usr/local/lib/python3.10/dist-packages (from pandas) (2023.4)\n",
            "Requirement already satisfied: scipy>=1.3.2 in /usr/local/lib/python3.10/dist-packages (from scikit-learn) (1.11.4)\n",
            "Requirement already satisfied: joblib>=1.1.1 in /usr/local/lib/python3.10/dist-packages (from scikit-learn) (1.3.2)\n",
            "Requirement already satisfied: threadpoolctl>=2.0.0 in /usr/local/lib/python3.10/dist-packages (from scikit-learn) (3.3.0)\n",
            "Requirement already satisfied: six>=1.5 in /usr/local/lib/python3.10/dist-packages (from python-dateutil>=2.8.1->pandas) (1.16.0)\n"
          ]
        }
      ],
      "source": [
        "pip install numpy pandas scikit-learn"
      ]
    },
    {
      "cell_type": "code",
      "source": [
        "# Importing necessary libraries\n",
        "import pandas as pd\n",
        "from sklearn.feature_extraction.text import CountVectorizer\n",
        "from sklearn.model_selection import train_test_split\n",
        "from sklearn.naive_bayes import MultinomialNB\n",
        "from sklearn.linear_model import LogisticRegression\n",
        "from sklearn.svm import SVC\n",
        "from sklearn.metrics import accuracy_score, classification_report\n",
        "import numpy as np\n",
        "import matplotlib.pyplot as plt\n",
        "import seaborn as sns\n",
        "from sklearn.preprocessing import LabelEncoder\n",
        "from sklearn.feature_extraction.text import CountVectorizer\n",
        "from sklearn.naive_bayes import MultinomialNB\n",
        "from sklearn.metrics import accuracy_score, confusion_matrix, classification_report, ConfusionMatrixDisplay"
      ],
      "metadata": {
        "id": "jqPe9K-82JNU"
      },
      "execution_count": 40,
      "outputs": []
    },
    {
      "cell_type": "code",
      "source": [
        "\n",
        "csv_path = '/content/spam.csv'\n",
        "\n",
        "encodings = ['utf-8', 'ISO-8859-1', 'latin1']\n",
        "for encoding in encodings:\n",
        "    try:\n",
        "        df = pd.read_csv(csv_path, encoding=encoding)\n",
        "        print(\"CSV file successfully read with encoding:\", encoding)\n",
        "        break\n",
        "    except UnicodeDecodeError:\n",
        "        print(\"Error reading with encoding:\", encoding)\n",
        "\n",
        "print(df.head())"
      ],
      "metadata": {
        "id": "DP9mtBRr5L2q",
        "outputId": "e288f56b-41eb-4d38-f29f-db65c432b647",
        "colab": {
          "base_uri": "https://localhost:8080/"
        }
      },
      "execution_count": 41,
      "outputs": [
        {
          "output_type": "stream",
          "name": "stdout",
          "text": [
            "Error reading with encoding: utf-8\n",
            "CSV file successfully read with encoding: ISO-8859-1\n",
            "     v1                                                 v2 Unnamed: 2  \\\n",
            "0   ham  Go until jurong point, crazy.. Available only ...        NaN   \n",
            "1   ham                      Ok lar... Joking wif u oni...        NaN   \n",
            "2  spam  Free entry in 2 a wkly comp to win FA Cup fina...        NaN   \n",
            "3   ham  U dun say so early hor... U c already then say...        NaN   \n",
            "4   ham  Nah I don't think he goes to usf, he lives aro...        NaN   \n",
            "\n",
            "  Unnamed: 3 Unnamed: 4  \n",
            "0        NaN        NaN  \n",
            "1        NaN        NaN  \n",
            "2        NaN        NaN  \n",
            "3        NaN        NaN  \n",
            "4        NaN        NaN  \n"
          ]
        }
      ]
    },
    {
      "cell_type": "code",
      "source": [
        "selected_columns = df.iloc[:, :2]\n",
        "selected_columns.head()"
      ],
      "metadata": {
        "colab": {
          "base_uri": "https://localhost:8080/",
          "height": 206
        },
        "id": "fTHB2y1k3PDn",
        "outputId": "d1e17c7c-3a0c-4426-ced7-e63e6b86ee9d"
      },
      "execution_count": 42,
      "outputs": [
        {
          "output_type": "execute_result",
          "data": {
            "text/plain": [
              "     v1                                                 v2\n",
              "0   ham  Go until jurong point, crazy.. Available only ...\n",
              "1   ham                      Ok lar... Joking wif u oni...\n",
              "2  spam  Free entry in 2 a wkly comp to win FA Cup fina...\n",
              "3   ham  U dun say so early hor... U c already then say...\n",
              "4   ham  Nah I don't think he goes to usf, he lives aro..."
            ],
            "text/html": [
              "\n",
              "  <div id=\"df-96ff1bd4-1308-43c8-9723-72dc3dab5a2e\" class=\"colab-df-container\">\n",
              "    <div>\n",
              "<style scoped>\n",
              "    .dataframe tbody tr th:only-of-type {\n",
              "        vertical-align: middle;\n",
              "    }\n",
              "\n",
              "    .dataframe tbody tr th {\n",
              "        vertical-align: top;\n",
              "    }\n",
              "\n",
              "    .dataframe thead th {\n",
              "        text-align: right;\n",
              "    }\n",
              "</style>\n",
              "<table border=\"1\" class=\"dataframe\">\n",
              "  <thead>\n",
              "    <tr style=\"text-align: right;\">\n",
              "      <th></th>\n",
              "      <th>v1</th>\n",
              "      <th>v2</th>\n",
              "    </tr>\n",
              "  </thead>\n",
              "  <tbody>\n",
              "    <tr>\n",
              "      <th>0</th>\n",
              "      <td>ham</td>\n",
              "      <td>Go until jurong point, crazy.. Available only ...</td>\n",
              "    </tr>\n",
              "    <tr>\n",
              "      <th>1</th>\n",
              "      <td>ham</td>\n",
              "      <td>Ok lar... Joking wif u oni...</td>\n",
              "    </tr>\n",
              "    <tr>\n",
              "      <th>2</th>\n",
              "      <td>spam</td>\n",
              "      <td>Free entry in 2 a wkly comp to win FA Cup fina...</td>\n",
              "    </tr>\n",
              "    <tr>\n",
              "      <th>3</th>\n",
              "      <td>ham</td>\n",
              "      <td>U dun say so early hor... U c already then say...</td>\n",
              "    </tr>\n",
              "    <tr>\n",
              "      <th>4</th>\n",
              "      <td>ham</td>\n",
              "      <td>Nah I don't think he goes to usf, he lives aro...</td>\n",
              "    </tr>\n",
              "  </tbody>\n",
              "</table>\n",
              "</div>\n",
              "    <div class=\"colab-df-buttons\">\n",
              "\n",
              "  <div class=\"colab-df-container\">\n",
              "    <button class=\"colab-df-convert\" onclick=\"convertToInteractive('df-96ff1bd4-1308-43c8-9723-72dc3dab5a2e')\"\n",
              "            title=\"Convert this dataframe to an interactive table.\"\n",
              "            style=\"display:none;\">\n",
              "\n",
              "  <svg xmlns=\"http://www.w3.org/2000/svg\" height=\"24px\" viewBox=\"0 -960 960 960\">\n",
              "    <path d=\"M120-120v-720h720v720H120Zm60-500h600v-160H180v160Zm220 220h160v-160H400v160Zm0 220h160v-160H400v160ZM180-400h160v-160H180v160Zm440 0h160v-160H620v160ZM180-180h160v-160H180v160Zm440 0h160v-160H620v160Z\"/>\n",
              "  </svg>\n",
              "    </button>\n",
              "\n",
              "  <style>\n",
              "    .colab-df-container {\n",
              "      display:flex;\n",
              "      gap: 12px;\n",
              "    }\n",
              "\n",
              "    .colab-df-convert {\n",
              "      background-color: #E8F0FE;\n",
              "      border: none;\n",
              "      border-radius: 50%;\n",
              "      cursor: pointer;\n",
              "      display: none;\n",
              "      fill: #1967D2;\n",
              "      height: 32px;\n",
              "      padding: 0 0 0 0;\n",
              "      width: 32px;\n",
              "    }\n",
              "\n",
              "    .colab-df-convert:hover {\n",
              "      background-color: #E2EBFA;\n",
              "      box-shadow: 0px 1px 2px rgba(60, 64, 67, 0.3), 0px 1px 3px 1px rgba(60, 64, 67, 0.15);\n",
              "      fill: #174EA6;\n",
              "    }\n",
              "\n",
              "    .colab-df-buttons div {\n",
              "      margin-bottom: 4px;\n",
              "    }\n",
              "\n",
              "    [theme=dark] .colab-df-convert {\n",
              "      background-color: #3B4455;\n",
              "      fill: #D2E3FC;\n",
              "    }\n",
              "\n",
              "    [theme=dark] .colab-df-convert:hover {\n",
              "      background-color: #434B5C;\n",
              "      box-shadow: 0px 1px 3px 1px rgba(0, 0, 0, 0.15);\n",
              "      filter: drop-shadow(0px 1px 2px rgba(0, 0, 0, 0.3));\n",
              "      fill: #FFFFFF;\n",
              "    }\n",
              "  </style>\n",
              "\n",
              "    <script>\n",
              "      const buttonEl =\n",
              "        document.querySelector('#df-96ff1bd4-1308-43c8-9723-72dc3dab5a2e button.colab-df-convert');\n",
              "      buttonEl.style.display =\n",
              "        google.colab.kernel.accessAllowed ? 'block' : 'none';\n",
              "\n",
              "      async function convertToInteractive(key) {\n",
              "        const element = document.querySelector('#df-96ff1bd4-1308-43c8-9723-72dc3dab5a2e');\n",
              "        const dataTable =\n",
              "          await google.colab.kernel.invokeFunction('convertToInteractive',\n",
              "                                                    [key], {});\n",
              "        if (!dataTable) return;\n",
              "\n",
              "        const docLinkHtml = 'Like what you see? Visit the ' +\n",
              "          '<a target=\"_blank\" href=https://colab.research.google.com/notebooks/data_table.ipynb>data table notebook</a>'\n",
              "          + ' to learn more about interactive tables.';\n",
              "        element.innerHTML = '';\n",
              "        dataTable['output_type'] = 'display_data';\n",
              "        await google.colab.output.renderOutput(dataTable, element);\n",
              "        const docLink = document.createElement('div');\n",
              "        docLink.innerHTML = docLinkHtml;\n",
              "        element.appendChild(docLink);\n",
              "      }\n",
              "    </script>\n",
              "  </div>\n",
              "\n",
              "\n",
              "<div id=\"df-bc2f507a-3542-4a47-93fa-49f9a18cddd4\">\n",
              "  <button class=\"colab-df-quickchart\" onclick=\"quickchart('df-bc2f507a-3542-4a47-93fa-49f9a18cddd4')\"\n",
              "            title=\"Suggest charts\"\n",
              "            style=\"display:none;\">\n",
              "\n",
              "<svg xmlns=\"http://www.w3.org/2000/svg\" height=\"24px\"viewBox=\"0 0 24 24\"\n",
              "     width=\"24px\">\n",
              "    <g>\n",
              "        <path d=\"M19 3H5c-1.1 0-2 .9-2 2v14c0 1.1.9 2 2 2h14c1.1 0 2-.9 2-2V5c0-1.1-.9-2-2-2zM9 17H7v-7h2v7zm4 0h-2V7h2v10zm4 0h-2v-4h2v4z\"/>\n",
              "    </g>\n",
              "</svg>\n",
              "  </button>\n",
              "\n",
              "<style>\n",
              "  .colab-df-quickchart {\n",
              "      --bg-color: #E8F0FE;\n",
              "      --fill-color: #1967D2;\n",
              "      --hover-bg-color: #E2EBFA;\n",
              "      --hover-fill-color: #174EA6;\n",
              "      --disabled-fill-color: #AAA;\n",
              "      --disabled-bg-color: #DDD;\n",
              "  }\n",
              "\n",
              "  [theme=dark] .colab-df-quickchart {\n",
              "      --bg-color: #3B4455;\n",
              "      --fill-color: #D2E3FC;\n",
              "      --hover-bg-color: #434B5C;\n",
              "      --hover-fill-color: #FFFFFF;\n",
              "      --disabled-bg-color: #3B4455;\n",
              "      --disabled-fill-color: #666;\n",
              "  }\n",
              "\n",
              "  .colab-df-quickchart {\n",
              "    background-color: var(--bg-color);\n",
              "    border: none;\n",
              "    border-radius: 50%;\n",
              "    cursor: pointer;\n",
              "    display: none;\n",
              "    fill: var(--fill-color);\n",
              "    height: 32px;\n",
              "    padding: 0;\n",
              "    width: 32px;\n",
              "  }\n",
              "\n",
              "  .colab-df-quickchart:hover {\n",
              "    background-color: var(--hover-bg-color);\n",
              "    box-shadow: 0 1px 2px rgba(60, 64, 67, 0.3), 0 1px 3px 1px rgba(60, 64, 67, 0.15);\n",
              "    fill: var(--button-hover-fill-color);\n",
              "  }\n",
              "\n",
              "  .colab-df-quickchart-complete:disabled,\n",
              "  .colab-df-quickchart-complete:disabled:hover {\n",
              "    background-color: var(--disabled-bg-color);\n",
              "    fill: var(--disabled-fill-color);\n",
              "    box-shadow: none;\n",
              "  }\n",
              "\n",
              "  .colab-df-spinner {\n",
              "    border: 2px solid var(--fill-color);\n",
              "    border-color: transparent;\n",
              "    border-bottom-color: var(--fill-color);\n",
              "    animation:\n",
              "      spin 1s steps(1) infinite;\n",
              "  }\n",
              "\n",
              "  @keyframes spin {\n",
              "    0% {\n",
              "      border-color: transparent;\n",
              "      border-bottom-color: var(--fill-color);\n",
              "      border-left-color: var(--fill-color);\n",
              "    }\n",
              "    20% {\n",
              "      border-color: transparent;\n",
              "      border-left-color: var(--fill-color);\n",
              "      border-top-color: var(--fill-color);\n",
              "    }\n",
              "    30% {\n",
              "      border-color: transparent;\n",
              "      border-left-color: var(--fill-color);\n",
              "      border-top-color: var(--fill-color);\n",
              "      border-right-color: var(--fill-color);\n",
              "    }\n",
              "    40% {\n",
              "      border-color: transparent;\n",
              "      border-right-color: var(--fill-color);\n",
              "      border-top-color: var(--fill-color);\n",
              "    }\n",
              "    60% {\n",
              "      border-color: transparent;\n",
              "      border-right-color: var(--fill-color);\n",
              "    }\n",
              "    80% {\n",
              "      border-color: transparent;\n",
              "      border-right-color: var(--fill-color);\n",
              "      border-bottom-color: var(--fill-color);\n",
              "    }\n",
              "    90% {\n",
              "      border-color: transparent;\n",
              "      border-bottom-color: var(--fill-color);\n",
              "    }\n",
              "  }\n",
              "</style>\n",
              "\n",
              "  <script>\n",
              "    async function quickchart(key) {\n",
              "      const quickchartButtonEl =\n",
              "        document.querySelector('#' + key + ' button');\n",
              "      quickchartButtonEl.disabled = true;  // To prevent multiple clicks.\n",
              "      quickchartButtonEl.classList.add('colab-df-spinner');\n",
              "      try {\n",
              "        const charts = await google.colab.kernel.invokeFunction(\n",
              "            'suggestCharts', [key], {});\n",
              "      } catch (error) {\n",
              "        console.error('Error during call to suggestCharts:', error);\n",
              "      }\n",
              "      quickchartButtonEl.classList.remove('colab-df-spinner');\n",
              "      quickchartButtonEl.classList.add('colab-df-quickchart-complete');\n",
              "    }\n",
              "    (() => {\n",
              "      let quickchartButtonEl =\n",
              "        document.querySelector('#df-bc2f507a-3542-4a47-93fa-49f9a18cddd4 button');\n",
              "      quickchartButtonEl.style.display =\n",
              "        google.colab.kernel.accessAllowed ? 'block' : 'none';\n",
              "    })();\n",
              "  </script>\n",
              "</div>\n",
              "\n",
              "    </div>\n",
              "  </div>\n"
            ],
            "application/vnd.google.colaboratory.intrinsic+json": {
              "type": "dataframe",
              "variable_name": "selected_columns",
              "summary": "{\n  \"name\": \"selected_columns\",\n  \"rows\": 5572,\n  \"fields\": [\n    {\n      \"column\": \"v1\",\n      \"properties\": {\n        \"dtype\": \"category\",\n        \"num_unique_values\": 2,\n        \"samples\": [\n          \"spam\",\n          \"ham\"\n        ],\n        \"semantic_type\": \"\",\n        \"description\": \"\"\n      }\n    },\n    {\n      \"column\": \"v2\",\n      \"properties\": {\n        \"dtype\": \"string\",\n        \"num_unique_values\": 5169,\n        \"samples\": [\n          \"Did u download the fring app?\",\n          \"Pass dis to all ur contacts n see wat u get! Red;i'm in luv wid u. Blue;u put a smile on my face. Purple;u r realy hot. Pink;u r so swt. Orange;i thnk i lyk u. Green;i realy wana go out wid u. Yelow;i wnt u bck. Black;i'm jealous of u. Brown;i miss you Nw plz giv me one color\"\n        ],\n        \"semantic_type\": \"\",\n        \"description\": \"\"\n      }\n    }\n  ]\n}"
            }
          },
          "metadata": {},
          "execution_count": 42
        }
      ]
    },
    {
      "cell_type": "code",
      "source": [
        "ham_count = (selected_columns == 'ham').sum()\n",
        "spam_count = (selected_columns == 'spam').sum()\n",
        "\n",
        "print(\"Number of 'ham' entries:\", ham_count)\n",
        "print(\"Number of 'spam' entries:\", spam_count)"
      ],
      "metadata": {
        "colab": {
          "base_uri": "https://localhost:8080/"
        },
        "id": "30F9eZR_3fLy",
        "outputId": "410862e9-d355-497c-8ec9-3e1775e3dc46"
      },
      "execution_count": 43,
      "outputs": [
        {
          "output_type": "stream",
          "name": "stdout",
          "text": [
            "Number of 'ham' entries: v1    4825\n",
            "v2       0\n",
            "dtype: int64\n",
            "Number of 'spam' entries: v1    747\n",
            "v2      0\n",
            "dtype: int64\n"
          ]
        }
      ]
    },
    {
      "cell_type": "code",
      "source": [
        "\n",
        "selected_columns.info()"
      ],
      "metadata": {
        "id": "lmUVAqkA4QM-",
        "colab": {
          "base_uri": "https://localhost:8080/"
        },
        "outputId": "0b60cfd0-1271-4f2f-bb2e-5e62ce84e9ad"
      },
      "execution_count": 44,
      "outputs": [
        {
          "output_type": "stream",
          "name": "stdout",
          "text": [
            "<class 'pandas.core.frame.DataFrame'>\n",
            "RangeIndex: 5572 entries, 0 to 5571\n",
            "Data columns (total 2 columns):\n",
            " #   Column  Non-Null Count  Dtype \n",
            "---  ------  --------------  ----- \n",
            " 0   v1      5572 non-null   object\n",
            " 1   v2      5572 non-null   object\n",
            "dtypes: object(2)\n",
            "memory usage: 87.2+ KB\n"
          ]
        }
      ]
    },
    {
      "cell_type": "code",
      "source": [
        "import nltk\n",
        "from nltk.corpus import stopwords\n",
        "from nltk.tokenize import word_tokenize\n",
        "\n",
        "nltk.download('stopwords')\n",
        "nltk.download('punkt')\n",
        "\n",
        "selected_columns['v2'] = selected_columns['v2'].apply(word_tokenize)\n",
        "\n",
        "stop_words = set(stopwords.words('english'))\n",
        "selected_columns['v2'] = selected_columns['v2'].apply(lambda tokens: [word for word in tokens if word.lower() not in stop_words])\n",
        "\n",
        "selected_columns.head()"
      ],
      "metadata": {
        "colab": {
          "base_uri": "https://localhost:8080/",
          "height": 572
        },
        "id": "BKMESrGRmdVq",
        "outputId": "2fc9f1c3-9e50-4e54-cb05-a9dacba7d161"
      },
      "execution_count": 45,
      "outputs": [
        {
          "output_type": "stream",
          "name": "stderr",
          "text": [
            "[nltk_data] Downloading package stopwords to /root/nltk_data...\n",
            "[nltk_data]   Package stopwords is already up-to-date!\n",
            "[nltk_data] Downloading package punkt to /root/nltk_data...\n",
            "[nltk_data]   Package punkt is already up-to-date!\n",
            "<ipython-input-45-bb81ea00bbb5>:8: SettingWithCopyWarning:\n",
            "\n",
            "\n",
            "A value is trying to be set on a copy of a slice from a DataFrame.\n",
            "Try using .loc[row_indexer,col_indexer] = value instead\n",
            "\n",
            "See the caveats in the documentation: https://pandas.pydata.org/pandas-docs/stable/user_guide/indexing.html#returning-a-view-versus-a-copy\n",
            "\n",
            "<ipython-input-45-bb81ea00bbb5>:11: SettingWithCopyWarning:\n",
            "\n",
            "\n",
            "A value is trying to be set on a copy of a slice from a DataFrame.\n",
            "Try using .loc[row_indexer,col_indexer] = value instead\n",
            "\n",
            "See the caveats in the documentation: https://pandas.pydata.org/pandas-docs/stable/user_guide/indexing.html#returning-a-view-versus-a-copy\n",
            "\n"
          ]
        },
        {
          "output_type": "execute_result",
          "data": {
            "text/plain": [
              "     v1                                                 v2\n",
              "0   ham  [Go, jurong, point, ,, crazy, .., Available, b...\n",
              "1   ham           [Ok, lar, ..., Joking, wif, u, oni, ...]\n",
              "2  spam  [Free, entry, 2, wkly, comp, win, FA, Cup, fin...\n",
              "3   ham  [U, dun, say, early, hor, ..., U, c, already, ...\n",
              "4   ham  [Nah, n't, think, goes, usf, ,, lives, around,..."
            ],
            "text/html": [
              "\n",
              "  <div id=\"df-d21643da-9c47-4966-ae66-46abcf96b6ca\" class=\"colab-df-container\">\n",
              "    <div>\n",
              "<style scoped>\n",
              "    .dataframe tbody tr th:only-of-type {\n",
              "        vertical-align: middle;\n",
              "    }\n",
              "\n",
              "    .dataframe tbody tr th {\n",
              "        vertical-align: top;\n",
              "    }\n",
              "\n",
              "    .dataframe thead th {\n",
              "        text-align: right;\n",
              "    }\n",
              "</style>\n",
              "<table border=\"1\" class=\"dataframe\">\n",
              "  <thead>\n",
              "    <tr style=\"text-align: right;\">\n",
              "      <th></th>\n",
              "      <th>v1</th>\n",
              "      <th>v2</th>\n",
              "    </tr>\n",
              "  </thead>\n",
              "  <tbody>\n",
              "    <tr>\n",
              "      <th>0</th>\n",
              "      <td>ham</td>\n",
              "      <td>[Go, jurong, point, ,, crazy, .., Available, b...</td>\n",
              "    </tr>\n",
              "    <tr>\n",
              "      <th>1</th>\n",
              "      <td>ham</td>\n",
              "      <td>[Ok, lar, ..., Joking, wif, u, oni, ...]</td>\n",
              "    </tr>\n",
              "    <tr>\n",
              "      <th>2</th>\n",
              "      <td>spam</td>\n",
              "      <td>[Free, entry, 2, wkly, comp, win, FA, Cup, fin...</td>\n",
              "    </tr>\n",
              "    <tr>\n",
              "      <th>3</th>\n",
              "      <td>ham</td>\n",
              "      <td>[U, dun, say, early, hor, ..., U, c, already, ...</td>\n",
              "    </tr>\n",
              "    <tr>\n",
              "      <th>4</th>\n",
              "      <td>ham</td>\n",
              "      <td>[Nah, n't, think, goes, usf, ,, lives, around,...</td>\n",
              "    </tr>\n",
              "  </tbody>\n",
              "</table>\n",
              "</div>\n",
              "    <div class=\"colab-df-buttons\">\n",
              "\n",
              "  <div class=\"colab-df-container\">\n",
              "    <button class=\"colab-df-convert\" onclick=\"convertToInteractive('df-d21643da-9c47-4966-ae66-46abcf96b6ca')\"\n",
              "            title=\"Convert this dataframe to an interactive table.\"\n",
              "            style=\"display:none;\">\n",
              "\n",
              "  <svg xmlns=\"http://www.w3.org/2000/svg\" height=\"24px\" viewBox=\"0 -960 960 960\">\n",
              "    <path d=\"M120-120v-720h720v720H120Zm60-500h600v-160H180v160Zm220 220h160v-160H400v160Zm0 220h160v-160H400v160ZM180-400h160v-160H180v160Zm440 0h160v-160H620v160ZM180-180h160v-160H180v160Zm440 0h160v-160H620v160Z\"/>\n",
              "  </svg>\n",
              "    </button>\n",
              "\n",
              "  <style>\n",
              "    .colab-df-container {\n",
              "      display:flex;\n",
              "      gap: 12px;\n",
              "    }\n",
              "\n",
              "    .colab-df-convert {\n",
              "      background-color: #E8F0FE;\n",
              "      border: none;\n",
              "      border-radius: 50%;\n",
              "      cursor: pointer;\n",
              "      display: none;\n",
              "      fill: #1967D2;\n",
              "      height: 32px;\n",
              "      padding: 0 0 0 0;\n",
              "      width: 32px;\n",
              "    }\n",
              "\n",
              "    .colab-df-convert:hover {\n",
              "      background-color: #E2EBFA;\n",
              "      box-shadow: 0px 1px 2px rgba(60, 64, 67, 0.3), 0px 1px 3px 1px rgba(60, 64, 67, 0.15);\n",
              "      fill: #174EA6;\n",
              "    }\n",
              "\n",
              "    .colab-df-buttons div {\n",
              "      margin-bottom: 4px;\n",
              "    }\n",
              "\n",
              "    [theme=dark] .colab-df-convert {\n",
              "      background-color: #3B4455;\n",
              "      fill: #D2E3FC;\n",
              "    }\n",
              "\n",
              "    [theme=dark] .colab-df-convert:hover {\n",
              "      background-color: #434B5C;\n",
              "      box-shadow: 0px 1px 3px 1px rgba(0, 0, 0, 0.15);\n",
              "      filter: drop-shadow(0px 1px 2px rgba(0, 0, 0, 0.3));\n",
              "      fill: #FFFFFF;\n",
              "    }\n",
              "  </style>\n",
              "\n",
              "    <script>\n",
              "      const buttonEl =\n",
              "        document.querySelector('#df-d21643da-9c47-4966-ae66-46abcf96b6ca button.colab-df-convert');\n",
              "      buttonEl.style.display =\n",
              "        google.colab.kernel.accessAllowed ? 'block' : 'none';\n",
              "\n",
              "      async function convertToInteractive(key) {\n",
              "        const element = document.querySelector('#df-d21643da-9c47-4966-ae66-46abcf96b6ca');\n",
              "        const dataTable =\n",
              "          await google.colab.kernel.invokeFunction('convertToInteractive',\n",
              "                                                    [key], {});\n",
              "        if (!dataTable) return;\n",
              "\n",
              "        const docLinkHtml = 'Like what you see? Visit the ' +\n",
              "          '<a target=\"_blank\" href=https://colab.research.google.com/notebooks/data_table.ipynb>data table notebook</a>'\n",
              "          + ' to learn more about interactive tables.';\n",
              "        element.innerHTML = '';\n",
              "        dataTable['output_type'] = 'display_data';\n",
              "        await google.colab.output.renderOutput(dataTable, element);\n",
              "        const docLink = document.createElement('div');\n",
              "        docLink.innerHTML = docLinkHtml;\n",
              "        element.appendChild(docLink);\n",
              "      }\n",
              "    </script>\n",
              "  </div>\n",
              "\n",
              "\n",
              "<div id=\"df-988cc5bd-1ce4-4658-8043-62de7bc8e962\">\n",
              "  <button class=\"colab-df-quickchart\" onclick=\"quickchart('df-988cc5bd-1ce4-4658-8043-62de7bc8e962')\"\n",
              "            title=\"Suggest charts\"\n",
              "            style=\"display:none;\">\n",
              "\n",
              "<svg xmlns=\"http://www.w3.org/2000/svg\" height=\"24px\"viewBox=\"0 0 24 24\"\n",
              "     width=\"24px\">\n",
              "    <g>\n",
              "        <path d=\"M19 3H5c-1.1 0-2 .9-2 2v14c0 1.1.9 2 2 2h14c1.1 0 2-.9 2-2V5c0-1.1-.9-2-2-2zM9 17H7v-7h2v7zm4 0h-2V7h2v10zm4 0h-2v-4h2v4z\"/>\n",
              "    </g>\n",
              "</svg>\n",
              "  </button>\n",
              "\n",
              "<style>\n",
              "  .colab-df-quickchart {\n",
              "      --bg-color: #E8F0FE;\n",
              "      --fill-color: #1967D2;\n",
              "      --hover-bg-color: #E2EBFA;\n",
              "      --hover-fill-color: #174EA6;\n",
              "      --disabled-fill-color: #AAA;\n",
              "      --disabled-bg-color: #DDD;\n",
              "  }\n",
              "\n",
              "  [theme=dark] .colab-df-quickchart {\n",
              "      --bg-color: #3B4455;\n",
              "      --fill-color: #D2E3FC;\n",
              "      --hover-bg-color: #434B5C;\n",
              "      --hover-fill-color: #FFFFFF;\n",
              "      --disabled-bg-color: #3B4455;\n",
              "      --disabled-fill-color: #666;\n",
              "  }\n",
              "\n",
              "  .colab-df-quickchart {\n",
              "    background-color: var(--bg-color);\n",
              "    border: none;\n",
              "    border-radius: 50%;\n",
              "    cursor: pointer;\n",
              "    display: none;\n",
              "    fill: var(--fill-color);\n",
              "    height: 32px;\n",
              "    padding: 0;\n",
              "    width: 32px;\n",
              "  }\n",
              "\n",
              "  .colab-df-quickchart:hover {\n",
              "    background-color: var(--hover-bg-color);\n",
              "    box-shadow: 0 1px 2px rgba(60, 64, 67, 0.3), 0 1px 3px 1px rgba(60, 64, 67, 0.15);\n",
              "    fill: var(--button-hover-fill-color);\n",
              "  }\n",
              "\n",
              "  .colab-df-quickchart-complete:disabled,\n",
              "  .colab-df-quickchart-complete:disabled:hover {\n",
              "    background-color: var(--disabled-bg-color);\n",
              "    fill: var(--disabled-fill-color);\n",
              "    box-shadow: none;\n",
              "  }\n",
              "\n",
              "  .colab-df-spinner {\n",
              "    border: 2px solid var(--fill-color);\n",
              "    border-color: transparent;\n",
              "    border-bottom-color: var(--fill-color);\n",
              "    animation:\n",
              "      spin 1s steps(1) infinite;\n",
              "  }\n",
              "\n",
              "  @keyframes spin {\n",
              "    0% {\n",
              "      border-color: transparent;\n",
              "      border-bottom-color: var(--fill-color);\n",
              "      border-left-color: var(--fill-color);\n",
              "    }\n",
              "    20% {\n",
              "      border-color: transparent;\n",
              "      border-left-color: var(--fill-color);\n",
              "      border-top-color: var(--fill-color);\n",
              "    }\n",
              "    30% {\n",
              "      border-color: transparent;\n",
              "      border-left-color: var(--fill-color);\n",
              "      border-top-color: var(--fill-color);\n",
              "      border-right-color: var(--fill-color);\n",
              "    }\n",
              "    40% {\n",
              "      border-color: transparent;\n",
              "      border-right-color: var(--fill-color);\n",
              "      border-top-color: var(--fill-color);\n",
              "    }\n",
              "    60% {\n",
              "      border-color: transparent;\n",
              "      border-right-color: var(--fill-color);\n",
              "    }\n",
              "    80% {\n",
              "      border-color: transparent;\n",
              "      border-right-color: var(--fill-color);\n",
              "      border-bottom-color: var(--fill-color);\n",
              "    }\n",
              "    90% {\n",
              "      border-color: transparent;\n",
              "      border-bottom-color: var(--fill-color);\n",
              "    }\n",
              "  }\n",
              "</style>\n",
              "\n",
              "  <script>\n",
              "    async function quickchart(key) {\n",
              "      const quickchartButtonEl =\n",
              "        document.querySelector('#' + key + ' button');\n",
              "      quickchartButtonEl.disabled = true;  // To prevent multiple clicks.\n",
              "      quickchartButtonEl.classList.add('colab-df-spinner');\n",
              "      try {\n",
              "        const charts = await google.colab.kernel.invokeFunction(\n",
              "            'suggestCharts', [key], {});\n",
              "      } catch (error) {\n",
              "        console.error('Error during call to suggestCharts:', error);\n",
              "      }\n",
              "      quickchartButtonEl.classList.remove('colab-df-spinner');\n",
              "      quickchartButtonEl.classList.add('colab-df-quickchart-complete');\n",
              "    }\n",
              "    (() => {\n",
              "      let quickchartButtonEl =\n",
              "        document.querySelector('#df-988cc5bd-1ce4-4658-8043-62de7bc8e962 button');\n",
              "      quickchartButtonEl.style.display =\n",
              "        google.colab.kernel.accessAllowed ? 'block' : 'none';\n",
              "    })();\n",
              "  </script>\n",
              "</div>\n",
              "\n",
              "    </div>\n",
              "  </div>\n"
            ],
            "application/vnd.google.colaboratory.intrinsic+json": {
              "type": "dataframe",
              "variable_name": "selected_columns",
              "summary": "{\n  \"name\": \"selected_columns\",\n  \"rows\": 5572,\n  \"fields\": [\n    {\n      \"column\": \"v1\",\n      \"properties\": {\n        \"dtype\": \"category\",\n        \"num_unique_values\": 2,\n        \"samples\": [\n          \"spam\",\n          \"ham\"\n        ],\n        \"semantic_type\": \"\",\n        \"description\": \"\"\n      }\n    },\n    {\n      \"column\": \"v2\",\n      \"properties\": {\n        \"dtype\": \"object\",\n        \"semantic_type\": \"\",\n        \"description\": \"\"\n      }\n    }\n  ]\n}"
            }
          },
          "metadata": {},
          "execution_count": 45
        }
      ]
    },
    {
      "cell_type": "code",
      "source": [
        "import plotly.express as px\n",
        "\n",
        "selected_columns['length'] = selected_columns['v2'].apply(len)\n",
        "\n",
        "length_count_df = selected_columns.groupby(['v1', 'length']).size().reset_index(name='count')\n",
        "fig = px.area(length_count_df, x='length', y='count', color='v1', title='Tokenized String Length Distribution',\n",
        "              labels={'length': 'Tokenized String Length', 'count': 'Frequency'},\n",
        "              color_discrete_map={'ham': 'rgba(0, 0, 255, 0.5)', 'spam': 'rgba(255, 0, 0, 0.5)'})\n",
        "\n",
        "\n",
        "fig.show()"
      ],
      "metadata": {
        "colab": {
          "base_uri": "https://localhost:8080/",
          "height": 688
        },
        "id": "44Qa_w6vmhvu",
        "outputId": "b643951b-d94e-482c-acfc-dedc2a8f036a"
      },
      "execution_count": 46,
      "outputs": [
        {
          "output_type": "stream",
          "name": "stderr",
          "text": [
            "<ipython-input-46-22cba5716fa4>:3: SettingWithCopyWarning:\n",
            "\n",
            "\n",
            "A value is trying to be set on a copy of a slice from a DataFrame.\n",
            "Try using .loc[row_indexer,col_indexer] = value instead\n",
            "\n",
            "See the caveats in the documentation: https://pandas.pydata.org/pandas-docs/stable/user_guide/indexing.html#returning-a-view-versus-a-copy\n",
            "\n"
          ]
        },
        {
          "output_type": "display_data",
          "data": {
            "text/html": [
              "<html>\n",
              "<head><meta charset=\"utf-8\" /></head>\n",
              "<body>\n",
              "    <div>            <script src=\"https://cdnjs.cloudflare.com/ajax/libs/mathjax/2.7.5/MathJax.js?config=TeX-AMS-MML_SVG\"></script><script type=\"text/javascript\">if (window.MathJax && window.MathJax.Hub && window.MathJax.Hub.Config) {window.MathJax.Hub.Config({SVG: {font: \"STIX-Web\"}});}</script>                <script type=\"text/javascript\">window.PlotlyConfig = {MathJaxConfig: 'local'};</script>\n",
              "        <script charset=\"utf-8\" src=\"https://cdn.plot.ly/plotly-2.24.1.min.js\"></script>                <div id=\"fb43d9c9-5242-46de-900b-0be39d635f28\" class=\"plotly-graph-div\" style=\"height:525px; width:100%;\"></div>            <script type=\"text/javascript\">                                    window.PLOTLYENV=window.PLOTLYENV || {};                                    if (document.getElementById(\"fb43d9c9-5242-46de-900b-0be39d635f28\")) {                    Plotly.newPlot(                        \"fb43d9c9-5242-46de-900b-0be39d635f28\",                        [{\"fillpattern\":{\"shape\":\"\"},\"hovertemplate\":\"v1=ham\\u003cbr\\u003eTokenized String Length=%{x}\\u003cbr\\u003eFrequency=%{y}\\u003cextra\\u003e\\u003c\\u002fextra\\u003e\",\"legendgroup\":\"ham\",\"line\":{\"color\":\"rgba(0, 0, 255, 0.5)\"},\"marker\":{\"symbol\":\"circle\"},\"mode\":\"lines\",\"name\":\"ham\",\"orientation\":\"v\",\"showlegend\":true,\"stackgroup\":\"1\",\"x\":[1,2,3,4,5,6,7,8,9,10,11,12,13,14,15,16,17,18,19,20,21,22,23,24,25,26,27,28,29,30,31,32,33,34,35,36,37,38,39,40,41,42,44,45,46,47,48,49,50,51,52,53,54,56,57,58,60,67,70,82,87,88,89,96,100,125,207],\"xaxis\":\"x\",\"y\":[25,133,254,377,479,419,395,348,265,248,227,178,166,115,128,118,98,103,68,82,80,73,69,42,40,44,28,31,29,18,9,12,13,14,6,9,4,10,8,7,1,1,2,5,1,2,3,1,3,3,3,1,2,2,1,1,7,1,1,1,2,1,3,1,2,1,1],\"yaxis\":\"y\",\"type\":\"scatter\"},{\"fillpattern\":{\"shape\":\"\"},\"hovertemplate\":\"v1=spam\\u003cbr\\u003eTokenized String Length=%{x}\\u003cbr\\u003eFrequency=%{y}\\u003cextra\\u003e\\u003c\\u002fextra\\u003e\",\"legendgroup\":\"spam\",\"line\":{\"color\":\"rgba(255, 0, 0, 0.5)\"},\"marker\":{\"symbol\":\"circle\"},\"mode\":\"lines\",\"name\":\"spam\",\"orientation\":\"v\",\"showlegend\":true,\"stackgroup\":\"1\",\"x\":[2,4,5,6,7,8,9,10,11,12,13,14,15,16,17,18,19,20,21,22,23,24,25,26,27,28,29,30,31,32,33,34,35,37],\"xaxis\":\"x\",\"y\":[2,3,3,5,9,10,3,12,13,11,10,21,24,23,41,43,38,49,58,68,57,45,36,36,28,12,27,23,15,10,3,4,2,3],\"yaxis\":\"y\",\"type\":\"scatter\"}],                        {\"template\":{\"data\":{\"histogram2dcontour\":[{\"type\":\"histogram2dcontour\",\"colorbar\":{\"outlinewidth\":0,\"ticks\":\"\"},\"colorscale\":[[0.0,\"#0d0887\"],[0.1111111111111111,\"#46039f\"],[0.2222222222222222,\"#7201a8\"],[0.3333333333333333,\"#9c179e\"],[0.4444444444444444,\"#bd3786\"],[0.5555555555555556,\"#d8576b\"],[0.6666666666666666,\"#ed7953\"],[0.7777777777777778,\"#fb9f3a\"],[0.8888888888888888,\"#fdca26\"],[1.0,\"#f0f921\"]]}],\"choropleth\":[{\"type\":\"choropleth\",\"colorbar\":{\"outlinewidth\":0,\"ticks\":\"\"}}],\"histogram2d\":[{\"type\":\"histogram2d\",\"colorbar\":{\"outlinewidth\":0,\"ticks\":\"\"},\"colorscale\":[[0.0,\"#0d0887\"],[0.1111111111111111,\"#46039f\"],[0.2222222222222222,\"#7201a8\"],[0.3333333333333333,\"#9c179e\"],[0.4444444444444444,\"#bd3786\"],[0.5555555555555556,\"#d8576b\"],[0.6666666666666666,\"#ed7953\"],[0.7777777777777778,\"#fb9f3a\"],[0.8888888888888888,\"#fdca26\"],[1.0,\"#f0f921\"]]}],\"heatmap\":[{\"type\":\"heatmap\",\"colorbar\":{\"outlinewidth\":0,\"ticks\":\"\"},\"colorscale\":[[0.0,\"#0d0887\"],[0.1111111111111111,\"#46039f\"],[0.2222222222222222,\"#7201a8\"],[0.3333333333333333,\"#9c179e\"],[0.4444444444444444,\"#bd3786\"],[0.5555555555555556,\"#d8576b\"],[0.6666666666666666,\"#ed7953\"],[0.7777777777777778,\"#fb9f3a\"],[0.8888888888888888,\"#fdca26\"],[1.0,\"#f0f921\"]]}],\"heatmapgl\":[{\"type\":\"heatmapgl\",\"colorbar\":{\"outlinewidth\":0,\"ticks\":\"\"},\"colorscale\":[[0.0,\"#0d0887\"],[0.1111111111111111,\"#46039f\"],[0.2222222222222222,\"#7201a8\"],[0.3333333333333333,\"#9c179e\"],[0.4444444444444444,\"#bd3786\"],[0.5555555555555556,\"#d8576b\"],[0.6666666666666666,\"#ed7953\"],[0.7777777777777778,\"#fb9f3a\"],[0.8888888888888888,\"#fdca26\"],[1.0,\"#f0f921\"]]}],\"contourcarpet\":[{\"type\":\"contourcarpet\",\"colorbar\":{\"outlinewidth\":0,\"ticks\":\"\"}}],\"contour\":[{\"type\":\"contour\",\"colorbar\":{\"outlinewidth\":0,\"ticks\":\"\"},\"colorscale\":[[0.0,\"#0d0887\"],[0.1111111111111111,\"#46039f\"],[0.2222222222222222,\"#7201a8\"],[0.3333333333333333,\"#9c179e\"],[0.4444444444444444,\"#bd3786\"],[0.5555555555555556,\"#d8576b\"],[0.6666666666666666,\"#ed7953\"],[0.7777777777777778,\"#fb9f3a\"],[0.8888888888888888,\"#fdca26\"],[1.0,\"#f0f921\"]]}],\"surface\":[{\"type\":\"surface\",\"colorbar\":{\"outlinewidth\":0,\"ticks\":\"\"},\"colorscale\":[[0.0,\"#0d0887\"],[0.1111111111111111,\"#46039f\"],[0.2222222222222222,\"#7201a8\"],[0.3333333333333333,\"#9c179e\"],[0.4444444444444444,\"#bd3786\"],[0.5555555555555556,\"#d8576b\"],[0.6666666666666666,\"#ed7953\"],[0.7777777777777778,\"#fb9f3a\"],[0.8888888888888888,\"#fdca26\"],[1.0,\"#f0f921\"]]}],\"mesh3d\":[{\"type\":\"mesh3d\",\"colorbar\":{\"outlinewidth\":0,\"ticks\":\"\"}}],\"scatter\":[{\"fillpattern\":{\"fillmode\":\"overlay\",\"size\":10,\"solidity\":0.2},\"type\":\"scatter\"}],\"parcoords\":[{\"type\":\"parcoords\",\"line\":{\"colorbar\":{\"outlinewidth\":0,\"ticks\":\"\"}}}],\"scatterpolargl\":[{\"type\":\"scatterpolargl\",\"marker\":{\"colorbar\":{\"outlinewidth\":0,\"ticks\":\"\"}}}],\"bar\":[{\"error_x\":{\"color\":\"#2a3f5f\"},\"error_y\":{\"color\":\"#2a3f5f\"},\"marker\":{\"line\":{\"color\":\"#E5ECF6\",\"width\":0.5},\"pattern\":{\"fillmode\":\"overlay\",\"size\":10,\"solidity\":0.2}},\"type\":\"bar\"}],\"scattergeo\":[{\"type\":\"scattergeo\",\"marker\":{\"colorbar\":{\"outlinewidth\":0,\"ticks\":\"\"}}}],\"scatterpolar\":[{\"type\":\"scatterpolar\",\"marker\":{\"colorbar\":{\"outlinewidth\":0,\"ticks\":\"\"}}}],\"histogram\":[{\"marker\":{\"pattern\":{\"fillmode\":\"overlay\",\"size\":10,\"solidity\":0.2}},\"type\":\"histogram\"}],\"scattergl\":[{\"type\":\"scattergl\",\"marker\":{\"colorbar\":{\"outlinewidth\":0,\"ticks\":\"\"}}}],\"scatter3d\":[{\"type\":\"scatter3d\",\"line\":{\"colorbar\":{\"outlinewidth\":0,\"ticks\":\"\"}},\"marker\":{\"colorbar\":{\"outlinewidth\":0,\"ticks\":\"\"}}}],\"scattermapbox\":[{\"type\":\"scattermapbox\",\"marker\":{\"colorbar\":{\"outlinewidth\":0,\"ticks\":\"\"}}}],\"scatterternary\":[{\"type\":\"scatterternary\",\"marker\":{\"colorbar\":{\"outlinewidth\":0,\"ticks\":\"\"}}}],\"scattercarpet\":[{\"type\":\"scattercarpet\",\"marker\":{\"colorbar\":{\"outlinewidth\":0,\"ticks\":\"\"}}}],\"carpet\":[{\"aaxis\":{\"endlinecolor\":\"#2a3f5f\",\"gridcolor\":\"white\",\"linecolor\":\"white\",\"minorgridcolor\":\"white\",\"startlinecolor\":\"#2a3f5f\"},\"baxis\":{\"endlinecolor\":\"#2a3f5f\",\"gridcolor\":\"white\",\"linecolor\":\"white\",\"minorgridcolor\":\"white\",\"startlinecolor\":\"#2a3f5f\"},\"type\":\"carpet\"}],\"table\":[{\"cells\":{\"fill\":{\"color\":\"#EBF0F8\"},\"line\":{\"color\":\"white\"}},\"header\":{\"fill\":{\"color\":\"#C8D4E3\"},\"line\":{\"color\":\"white\"}},\"type\":\"table\"}],\"barpolar\":[{\"marker\":{\"line\":{\"color\":\"#E5ECF6\",\"width\":0.5},\"pattern\":{\"fillmode\":\"overlay\",\"size\":10,\"solidity\":0.2}},\"type\":\"barpolar\"}],\"pie\":[{\"automargin\":true,\"type\":\"pie\"}]},\"layout\":{\"autotypenumbers\":\"strict\",\"colorway\":[\"#636efa\",\"#EF553B\",\"#00cc96\",\"#ab63fa\",\"#FFA15A\",\"#19d3f3\",\"#FF6692\",\"#B6E880\",\"#FF97FF\",\"#FECB52\"],\"font\":{\"color\":\"#2a3f5f\"},\"hovermode\":\"closest\",\"hoverlabel\":{\"align\":\"left\"},\"paper_bgcolor\":\"white\",\"plot_bgcolor\":\"#E5ECF6\",\"polar\":{\"bgcolor\":\"#E5ECF6\",\"angularaxis\":{\"gridcolor\":\"white\",\"linecolor\":\"white\",\"ticks\":\"\"},\"radialaxis\":{\"gridcolor\":\"white\",\"linecolor\":\"white\",\"ticks\":\"\"}},\"ternary\":{\"bgcolor\":\"#E5ECF6\",\"aaxis\":{\"gridcolor\":\"white\",\"linecolor\":\"white\",\"ticks\":\"\"},\"baxis\":{\"gridcolor\":\"white\",\"linecolor\":\"white\",\"ticks\":\"\"},\"caxis\":{\"gridcolor\":\"white\",\"linecolor\":\"white\",\"ticks\":\"\"}},\"coloraxis\":{\"colorbar\":{\"outlinewidth\":0,\"ticks\":\"\"}},\"colorscale\":{\"sequential\":[[0.0,\"#0d0887\"],[0.1111111111111111,\"#46039f\"],[0.2222222222222222,\"#7201a8\"],[0.3333333333333333,\"#9c179e\"],[0.4444444444444444,\"#bd3786\"],[0.5555555555555556,\"#d8576b\"],[0.6666666666666666,\"#ed7953\"],[0.7777777777777778,\"#fb9f3a\"],[0.8888888888888888,\"#fdca26\"],[1.0,\"#f0f921\"]],\"sequentialminus\":[[0.0,\"#0d0887\"],[0.1111111111111111,\"#46039f\"],[0.2222222222222222,\"#7201a8\"],[0.3333333333333333,\"#9c179e\"],[0.4444444444444444,\"#bd3786\"],[0.5555555555555556,\"#d8576b\"],[0.6666666666666666,\"#ed7953\"],[0.7777777777777778,\"#fb9f3a\"],[0.8888888888888888,\"#fdca26\"],[1.0,\"#f0f921\"]],\"diverging\":[[0,\"#8e0152\"],[0.1,\"#c51b7d\"],[0.2,\"#de77ae\"],[0.3,\"#f1b6da\"],[0.4,\"#fde0ef\"],[0.5,\"#f7f7f7\"],[0.6,\"#e6f5d0\"],[0.7,\"#b8e186\"],[0.8,\"#7fbc41\"],[0.9,\"#4d9221\"],[1,\"#276419\"]]},\"xaxis\":{\"gridcolor\":\"white\",\"linecolor\":\"white\",\"ticks\":\"\",\"title\":{\"standoff\":15},\"zerolinecolor\":\"white\",\"automargin\":true,\"zerolinewidth\":2},\"yaxis\":{\"gridcolor\":\"white\",\"linecolor\":\"white\",\"ticks\":\"\",\"title\":{\"standoff\":15},\"zerolinecolor\":\"white\",\"automargin\":true,\"zerolinewidth\":2},\"scene\":{\"xaxis\":{\"backgroundcolor\":\"#E5ECF6\",\"gridcolor\":\"white\",\"linecolor\":\"white\",\"showbackground\":true,\"ticks\":\"\",\"zerolinecolor\":\"white\",\"gridwidth\":2},\"yaxis\":{\"backgroundcolor\":\"#E5ECF6\",\"gridcolor\":\"white\",\"linecolor\":\"white\",\"showbackground\":true,\"ticks\":\"\",\"zerolinecolor\":\"white\",\"gridwidth\":2},\"zaxis\":{\"backgroundcolor\":\"#E5ECF6\",\"gridcolor\":\"white\",\"linecolor\":\"white\",\"showbackground\":true,\"ticks\":\"\",\"zerolinecolor\":\"white\",\"gridwidth\":2}},\"shapedefaults\":{\"line\":{\"color\":\"#2a3f5f\"}},\"annotationdefaults\":{\"arrowcolor\":\"#2a3f5f\",\"arrowhead\":0,\"arrowwidth\":1},\"geo\":{\"bgcolor\":\"white\",\"landcolor\":\"#E5ECF6\",\"subunitcolor\":\"white\",\"showland\":true,\"showlakes\":true,\"lakecolor\":\"white\"},\"title\":{\"x\":0.05},\"mapbox\":{\"style\":\"light\"}}},\"xaxis\":{\"anchor\":\"y\",\"domain\":[0.0,1.0],\"title\":{\"text\":\"Tokenized String Length\"}},\"yaxis\":{\"anchor\":\"x\",\"domain\":[0.0,1.0],\"title\":{\"text\":\"Frequency\"}},\"legend\":{\"title\":{\"text\":\"v1\"},\"tracegroupgap\":0},\"title\":{\"text\":\"Tokenized String Length Distribution\"}},                        {\"responsive\": true}                    ).then(function(){\n",
              "                            \n",
              "var gd = document.getElementById('fb43d9c9-5242-46de-900b-0be39d635f28');\n",
              "var x = new MutationObserver(function (mutations, observer) {{\n",
              "        var display = window.getComputedStyle(gd).display;\n",
              "        if (!display || display === 'none') {{\n",
              "            console.log([gd, 'removed!']);\n",
              "            Plotly.purge(gd);\n",
              "            observer.disconnect();\n",
              "        }}\n",
              "}});\n",
              "\n",
              "// Listen for the removal of the full notebook cells\n",
              "var notebookContainer = gd.closest('#notebook-container');\n",
              "if (notebookContainer) {{\n",
              "    x.observe(notebookContainer, {childList: true});\n",
              "}}\n",
              "\n",
              "// Listen for the clearing of the current output cell\n",
              "var outputEl = gd.closest('.output');\n",
              "if (outputEl) {{\n",
              "    x.observe(outputEl, {childList: true});\n",
              "}}\n",
              "\n",
              "                        })                };                            </script>        </div>\n",
              "</body>\n",
              "</html>"
            ]
          },
          "metadata": {}
        }
      ]
    },
    {
      "cell_type": "markdown",
      "source": [
        "**Logistic Regression**"
      ],
      "metadata": {
        "id": "eFUxzlMH2N-V"
      }
    },
    {
      "cell_type": "code",
      "source": [
        "from sklearn.feature_extraction.text import TfidfVectorizer\n",
        "\n",
        "selected_columns['v2'] = selected_columns['v2'].apply(' '.join)\n",
        "tfidf_vectorizer = TfidfVectorizer()\n",
        "tfidf_matrix = tfidf_vectorizer.fit_transform(selected_columns['v2'])\n",
        "\n",
        "tfidf_df = pd.DataFrame(tfidf_matrix.toarray(), columns=tfidf_vectorizer.get_feature_names_out())\n",
        "\n",
        "tfidf_df['v1'] = selected_columns['v1']"
      ],
      "metadata": {
        "colab": {
          "base_uri": "https://localhost:8080/"
        },
        "id": "Ub57v7KTmsPX",
        "outputId": "58018a18-9917-41d2-e487-435f77314ef5"
      },
      "execution_count": 47,
      "outputs": [
        {
          "output_type": "stream",
          "name": "stderr",
          "text": [
            "<ipython-input-47-f5299b3b42dc>:3: SettingWithCopyWarning:\n",
            "\n",
            "\n",
            "A value is trying to be set on a copy of a slice from a DataFrame.\n",
            "Try using .loc[row_indexer,col_indexer] = value instead\n",
            "\n",
            "See the caveats in the documentation: https://pandas.pydata.org/pandas-docs/stable/user_guide/indexing.html#returning-a-view-versus-a-copy\n",
            "\n"
          ]
        }
      ]
    },
    {
      "cell_type": "code",
      "source": [
        "tfidf_df.info()"
      ],
      "metadata": {
        "colab": {
          "base_uri": "https://localhost:8080/"
        },
        "id": "u010zJmYmngl",
        "outputId": "a6ce6bf9-0a50-47fd-8daf-7b1f6358cb6c"
      },
      "execution_count": 48,
      "outputs": [
        {
          "output_type": "stream",
          "name": "stdout",
          "text": [
            "<class 'pandas.core.frame.DataFrame'>\n",
            "RangeIndex: 5572 entries, 0 to 5571\n",
            "Columns: 8607 entries, 00 to v1\n",
            "dtypes: float64(8606), object(1)\n",
            "memory usage: 365.9+ MB\n"
          ]
        }
      ]
    },
    {
      "cell_type": "code",
      "source": [
        "from sklearn.model_selection import train_test_split\n",
        "from sklearn.linear_model import LogisticRegression\n",
        "from sklearn.metrics import classification_report, roc_curve, auc, precision_recall_curve\n",
        "import plotly.graph_objects as go\n",
        "\n",
        "\n",
        "X = tfidf_df.drop(columns=['v1'])\n",
        "y = tfidf_df['v1']\n",
        "\n",
        "y = y.apply(lambda label: 1 if label == 'spam' else 0)\n",
        "X_train, X_test, y_train, y_test = train_test_split(X, y, test_size=0.2, random_state=42)\n",
        "\n",
        "logreg_model = LogisticRegression()\n",
        "logreg_model.fit(X_train, y_train)\n",
        "\n",
        "# make predictions on the test set\n",
        "y_pred = logreg_model.predict(X_test)\n",
        "\n",
        "\n",
        "print(\"Classification Report for Test Set:\")\n",
        "print(classification_report(y_test, y_pred))\n",
        "\n",
        "# calculate ROC curve and AUC\n",
        "fpr, tpr, thresholds = roc_curve(y_test, logreg_model.predict_proba(X_test)[:, 1])\n",
        "roc_auc = auc(fpr, tpr)\n",
        "\n",
        "# create ROC curve plot using Plotly\n",
        "roc_curve_fig = go.Figure()\n",
        "roc_curve_fig.add_trace(go.Scatter(x=fpr, y=tpr, mode='lines', name=f'ROC Curve (AUC = {roc_auc:.2f})'))\n",
        "roc_curve_fig.add_trace(go.Scatter(x=[0, 1], y=[0, 1], mode='lines', name='random classifier'))\n",
        "roc_curve_fig.update_layout(title='ROC Curve', xaxis_title='false positive rate', yaxis_title='true positive rate')\n",
        "roc_curve_fig.show()\n",
        "\n",
        "# calculate precision-recall curve\n",
        "precision, recall, thresholds = precision_recall_curve(y_test, logreg_model.predict_proba(X_test)[:, 1])\n",
        "\n",
        "# create Precision-Recall curve plot\n",
        "precision_recall_fig = go.Figure()\n",
        "precision_recall_fig.add_trace(go.Scatter(x=recall, y=precision, mode='lines', name='Precision-Recall Curve'))\n",
        "precision_recall_fig.update_layout(title='Precision-Recall Curve', xaxis_title='Recall', yaxis_title='Precision')\n",
        "precision_recall_fig.show()"
      ],
      "metadata": {
        "colab": {
          "base_uri": "https://localhost:8080/",
          "height": 1000
        },
        "id": "HhfZhMAAm0Kj",
        "outputId": "8135a2a4-cbc7-4fda-d5e3-c6c4531794b3"
      },
      "execution_count": 49,
      "outputs": [
        {
          "output_type": "stream",
          "name": "stdout",
          "text": [
            "Classification Report for Test Set:\n",
            "              precision    recall  f1-score   support\n",
            "\n",
            "           0       0.95      0.99      0.97       965\n",
            "           1       0.95      0.63      0.76       150\n",
            "\n",
            "    accuracy                           0.95      1115\n",
            "   macro avg       0.95      0.81      0.86      1115\n",
            "weighted avg       0.95      0.95      0.94      1115\n",
            "\n"
          ]
        },
        {
          "output_type": "display_data",
          "data": {
            "text/html": [
              "<html>\n",
              "<head><meta charset=\"utf-8\" /></head>\n",
              "<body>\n",
              "    <div>            <script src=\"https://cdnjs.cloudflare.com/ajax/libs/mathjax/2.7.5/MathJax.js?config=TeX-AMS-MML_SVG\"></script><script type=\"text/javascript\">if (window.MathJax && window.MathJax.Hub && window.MathJax.Hub.Config) {window.MathJax.Hub.Config({SVG: {font: \"STIX-Web\"}});}</script>                <script type=\"text/javascript\">window.PlotlyConfig = {MathJaxConfig: 'local'};</script>\n",
              "        <script charset=\"utf-8\" src=\"https://cdn.plot.ly/plotly-2.24.1.min.js\"></script>                <div id=\"71fee875-62a7-4bbe-8900-44f3f397197d\" class=\"plotly-graph-div\" style=\"height:525px; width:100%;\"></div>            <script type=\"text/javascript\">                                    window.PLOTLYENV=window.PLOTLYENV || {};                                    if (document.getElementById(\"71fee875-62a7-4bbe-8900-44f3f397197d\")) {                    Plotly.newPlot(                        \"71fee875-62a7-4bbe-8900-44f3f397197d\",                        [{\"mode\":\"lines\",\"name\":\"ROC Curve (AUC = 0.99)\",\"x\":[0.0,0.0,0.0,0.0010362694300518134,0.0010362694300518134,0.0010362694300518134,0.0010362694300518134,0.002072538860103627,0.002072538860103627,0.0031088082901554403,0.0031088082901554403,0.004145077720207254,0.004145077720207254,0.0051813471502590676,0.0051813471502590676,0.0051813471502590676,0.0051813471502590676,0.0051813471502590676,0.0062176165803108805,0.0062176165803108805,0.007253886010362694,0.007253886010362694,0.011398963730569948,0.011398963730569948,0.013471502590673576,0.013471502590673576,0.014507772020725389,0.014507772020725389,0.016580310880829015,0.016580310880829015,0.01865284974093264,0.01865284974093264,0.039378238341968914,0.039378238341968914,0.046632124352331605,0.046632124352331605,0.04870466321243523,0.04870466321243523,0.06010362694300518,0.06010362694300518,0.06217616580310881,0.06217616580310881,0.12227979274611399,0.12435233160621761,0.14922279792746113,0.15544041450777202,0.16373056994818652,0.16580310880829016,0.24663212435233162,0.24663212435233162,0.26528497409326424,0.26735751295336785,0.3471502590673575,0.34922279792746114,0.35751295336787564,0.3606217616580311,0.49740932642487046,0.49948186528497407,0.6031088082901555,0.6031088082901555,0.6062176165803109,0.6082901554404145,0.6227979274611399,0.6248704663212435,0.6487046632124353,0.6507772020725389,0.7233160621761658,0.7264248704663212,0.805181347150259,0.8072538860103627,0.8694300518134715,0.877720207253886,0.9326424870466321,0.9347150259067357,0.9823834196891191,0.9875647668393782,0.9896373056994818,0.9917098445595854,1.0],\"y\":[0.0,0.006666666666666667,0.31333333333333335,0.31333333333333335,0.3466666666666667,0.36,0.38666666666666666,0.38666666666666666,0.4666666666666667,0.4666666666666667,0.5333333333333333,0.5333333333333333,0.5533333333333333,0.5533333333333333,0.5666666666666667,0.7533333333333333,0.7666666666666667,0.78,0.78,0.84,0.84,0.8533333333333334,0.8533333333333334,0.8866666666666667,0.8866666666666667,0.9133333333333333,0.9133333333333333,0.9266666666666666,0.9266666666666666,0.9333333333333333,0.9333333333333333,0.94,0.94,0.9466666666666667,0.9466666666666667,0.9533333333333334,0.9533333333333334,0.96,0.96,0.9666666666666667,0.9666666666666667,0.9733333333333334,0.9733333333333334,0.9733333333333334,0.9733333333333334,0.9866666666666667,0.9866666666666667,0.9866666666666667,0.9866666666666667,0.9933333333333333,0.9933333333333333,0.9933333333333333,0.9933333333333333,0.9933333333333333,0.9933333333333333,0.9933333333333333,0.9933333333333333,0.9933333333333333,0.9933333333333333,1.0,1.0,1.0,1.0,1.0,1.0,1.0,1.0,1.0,1.0,1.0,1.0,1.0,1.0,1.0,1.0,1.0,1.0,1.0,1.0],\"type\":\"scatter\"},{\"mode\":\"lines\",\"name\":\"random classifier\",\"x\":[0,1],\"y\":[0,1],\"type\":\"scatter\"}],                        {\"template\":{\"data\":{\"histogram2dcontour\":[{\"type\":\"histogram2dcontour\",\"colorbar\":{\"outlinewidth\":0,\"ticks\":\"\"},\"colorscale\":[[0.0,\"#0d0887\"],[0.1111111111111111,\"#46039f\"],[0.2222222222222222,\"#7201a8\"],[0.3333333333333333,\"#9c179e\"],[0.4444444444444444,\"#bd3786\"],[0.5555555555555556,\"#d8576b\"],[0.6666666666666666,\"#ed7953\"],[0.7777777777777778,\"#fb9f3a\"],[0.8888888888888888,\"#fdca26\"],[1.0,\"#f0f921\"]]}],\"choropleth\":[{\"type\":\"choropleth\",\"colorbar\":{\"outlinewidth\":0,\"ticks\":\"\"}}],\"histogram2d\":[{\"type\":\"histogram2d\",\"colorbar\":{\"outlinewidth\":0,\"ticks\":\"\"},\"colorscale\":[[0.0,\"#0d0887\"],[0.1111111111111111,\"#46039f\"],[0.2222222222222222,\"#7201a8\"],[0.3333333333333333,\"#9c179e\"],[0.4444444444444444,\"#bd3786\"],[0.5555555555555556,\"#d8576b\"],[0.6666666666666666,\"#ed7953\"],[0.7777777777777778,\"#fb9f3a\"],[0.8888888888888888,\"#fdca26\"],[1.0,\"#f0f921\"]]}],\"heatmap\":[{\"type\":\"heatmap\",\"colorbar\":{\"outlinewidth\":0,\"ticks\":\"\"},\"colorscale\":[[0.0,\"#0d0887\"],[0.1111111111111111,\"#46039f\"],[0.2222222222222222,\"#7201a8\"],[0.3333333333333333,\"#9c179e\"],[0.4444444444444444,\"#bd3786\"],[0.5555555555555556,\"#d8576b\"],[0.6666666666666666,\"#ed7953\"],[0.7777777777777778,\"#fb9f3a\"],[0.8888888888888888,\"#fdca26\"],[1.0,\"#f0f921\"]]}],\"heatmapgl\":[{\"type\":\"heatmapgl\",\"colorbar\":{\"outlinewidth\":0,\"ticks\":\"\"},\"colorscale\":[[0.0,\"#0d0887\"],[0.1111111111111111,\"#46039f\"],[0.2222222222222222,\"#7201a8\"],[0.3333333333333333,\"#9c179e\"],[0.4444444444444444,\"#bd3786\"],[0.5555555555555556,\"#d8576b\"],[0.6666666666666666,\"#ed7953\"],[0.7777777777777778,\"#fb9f3a\"],[0.8888888888888888,\"#fdca26\"],[1.0,\"#f0f921\"]]}],\"contourcarpet\":[{\"type\":\"contourcarpet\",\"colorbar\":{\"outlinewidth\":0,\"ticks\":\"\"}}],\"contour\":[{\"type\":\"contour\",\"colorbar\":{\"outlinewidth\":0,\"ticks\":\"\"},\"colorscale\":[[0.0,\"#0d0887\"],[0.1111111111111111,\"#46039f\"],[0.2222222222222222,\"#7201a8\"],[0.3333333333333333,\"#9c179e\"],[0.4444444444444444,\"#bd3786\"],[0.5555555555555556,\"#d8576b\"],[0.6666666666666666,\"#ed7953\"],[0.7777777777777778,\"#fb9f3a\"],[0.8888888888888888,\"#fdca26\"],[1.0,\"#f0f921\"]]}],\"surface\":[{\"type\":\"surface\",\"colorbar\":{\"outlinewidth\":0,\"ticks\":\"\"},\"colorscale\":[[0.0,\"#0d0887\"],[0.1111111111111111,\"#46039f\"],[0.2222222222222222,\"#7201a8\"],[0.3333333333333333,\"#9c179e\"],[0.4444444444444444,\"#bd3786\"],[0.5555555555555556,\"#d8576b\"],[0.6666666666666666,\"#ed7953\"],[0.7777777777777778,\"#fb9f3a\"],[0.8888888888888888,\"#fdca26\"],[1.0,\"#f0f921\"]]}],\"mesh3d\":[{\"type\":\"mesh3d\",\"colorbar\":{\"outlinewidth\":0,\"ticks\":\"\"}}],\"scatter\":[{\"fillpattern\":{\"fillmode\":\"overlay\",\"size\":10,\"solidity\":0.2},\"type\":\"scatter\"}],\"parcoords\":[{\"type\":\"parcoords\",\"line\":{\"colorbar\":{\"outlinewidth\":0,\"ticks\":\"\"}}}],\"scatterpolargl\":[{\"type\":\"scatterpolargl\",\"marker\":{\"colorbar\":{\"outlinewidth\":0,\"ticks\":\"\"}}}],\"bar\":[{\"error_x\":{\"color\":\"#2a3f5f\"},\"error_y\":{\"color\":\"#2a3f5f\"},\"marker\":{\"line\":{\"color\":\"#E5ECF6\",\"width\":0.5},\"pattern\":{\"fillmode\":\"overlay\",\"size\":10,\"solidity\":0.2}},\"type\":\"bar\"}],\"scattergeo\":[{\"type\":\"scattergeo\",\"marker\":{\"colorbar\":{\"outlinewidth\":0,\"ticks\":\"\"}}}],\"scatterpolar\":[{\"type\":\"scatterpolar\",\"marker\":{\"colorbar\":{\"outlinewidth\":0,\"ticks\":\"\"}}}],\"histogram\":[{\"marker\":{\"pattern\":{\"fillmode\":\"overlay\",\"size\":10,\"solidity\":0.2}},\"type\":\"histogram\"}],\"scattergl\":[{\"type\":\"scattergl\",\"marker\":{\"colorbar\":{\"outlinewidth\":0,\"ticks\":\"\"}}}],\"scatter3d\":[{\"type\":\"scatter3d\",\"line\":{\"colorbar\":{\"outlinewidth\":0,\"ticks\":\"\"}},\"marker\":{\"colorbar\":{\"outlinewidth\":0,\"ticks\":\"\"}}}],\"scattermapbox\":[{\"type\":\"scattermapbox\",\"marker\":{\"colorbar\":{\"outlinewidth\":0,\"ticks\":\"\"}}}],\"scatterternary\":[{\"type\":\"scatterternary\",\"marker\":{\"colorbar\":{\"outlinewidth\":0,\"ticks\":\"\"}}}],\"scattercarpet\":[{\"type\":\"scattercarpet\",\"marker\":{\"colorbar\":{\"outlinewidth\":0,\"ticks\":\"\"}}}],\"carpet\":[{\"aaxis\":{\"endlinecolor\":\"#2a3f5f\",\"gridcolor\":\"white\",\"linecolor\":\"white\",\"minorgridcolor\":\"white\",\"startlinecolor\":\"#2a3f5f\"},\"baxis\":{\"endlinecolor\":\"#2a3f5f\",\"gridcolor\":\"white\",\"linecolor\":\"white\",\"minorgridcolor\":\"white\",\"startlinecolor\":\"#2a3f5f\"},\"type\":\"carpet\"}],\"table\":[{\"cells\":{\"fill\":{\"color\":\"#EBF0F8\"},\"line\":{\"color\":\"white\"}},\"header\":{\"fill\":{\"color\":\"#C8D4E3\"},\"line\":{\"color\":\"white\"}},\"type\":\"table\"}],\"barpolar\":[{\"marker\":{\"line\":{\"color\":\"#E5ECF6\",\"width\":0.5},\"pattern\":{\"fillmode\":\"overlay\",\"size\":10,\"solidity\":0.2}},\"type\":\"barpolar\"}],\"pie\":[{\"automargin\":true,\"type\":\"pie\"}]},\"layout\":{\"autotypenumbers\":\"strict\",\"colorway\":[\"#636efa\",\"#EF553B\",\"#00cc96\",\"#ab63fa\",\"#FFA15A\",\"#19d3f3\",\"#FF6692\",\"#B6E880\",\"#FF97FF\",\"#FECB52\"],\"font\":{\"color\":\"#2a3f5f\"},\"hovermode\":\"closest\",\"hoverlabel\":{\"align\":\"left\"},\"paper_bgcolor\":\"white\",\"plot_bgcolor\":\"#E5ECF6\",\"polar\":{\"bgcolor\":\"#E5ECF6\",\"angularaxis\":{\"gridcolor\":\"white\",\"linecolor\":\"white\",\"ticks\":\"\"},\"radialaxis\":{\"gridcolor\":\"white\",\"linecolor\":\"white\",\"ticks\":\"\"}},\"ternary\":{\"bgcolor\":\"#E5ECF6\",\"aaxis\":{\"gridcolor\":\"white\",\"linecolor\":\"white\",\"ticks\":\"\"},\"baxis\":{\"gridcolor\":\"white\",\"linecolor\":\"white\",\"ticks\":\"\"},\"caxis\":{\"gridcolor\":\"white\",\"linecolor\":\"white\",\"ticks\":\"\"}},\"coloraxis\":{\"colorbar\":{\"outlinewidth\":0,\"ticks\":\"\"}},\"colorscale\":{\"sequential\":[[0.0,\"#0d0887\"],[0.1111111111111111,\"#46039f\"],[0.2222222222222222,\"#7201a8\"],[0.3333333333333333,\"#9c179e\"],[0.4444444444444444,\"#bd3786\"],[0.5555555555555556,\"#d8576b\"],[0.6666666666666666,\"#ed7953\"],[0.7777777777777778,\"#fb9f3a\"],[0.8888888888888888,\"#fdca26\"],[1.0,\"#f0f921\"]],\"sequentialminus\":[[0.0,\"#0d0887\"],[0.1111111111111111,\"#46039f\"],[0.2222222222222222,\"#7201a8\"],[0.3333333333333333,\"#9c179e\"],[0.4444444444444444,\"#bd3786\"],[0.5555555555555556,\"#d8576b\"],[0.6666666666666666,\"#ed7953\"],[0.7777777777777778,\"#fb9f3a\"],[0.8888888888888888,\"#fdca26\"],[1.0,\"#f0f921\"]],\"diverging\":[[0,\"#8e0152\"],[0.1,\"#c51b7d\"],[0.2,\"#de77ae\"],[0.3,\"#f1b6da\"],[0.4,\"#fde0ef\"],[0.5,\"#f7f7f7\"],[0.6,\"#e6f5d0\"],[0.7,\"#b8e186\"],[0.8,\"#7fbc41\"],[0.9,\"#4d9221\"],[1,\"#276419\"]]},\"xaxis\":{\"gridcolor\":\"white\",\"linecolor\":\"white\",\"ticks\":\"\",\"title\":{\"standoff\":15},\"zerolinecolor\":\"white\",\"automargin\":true,\"zerolinewidth\":2},\"yaxis\":{\"gridcolor\":\"white\",\"linecolor\":\"white\",\"ticks\":\"\",\"title\":{\"standoff\":15},\"zerolinecolor\":\"white\",\"automargin\":true,\"zerolinewidth\":2},\"scene\":{\"xaxis\":{\"backgroundcolor\":\"#E5ECF6\",\"gridcolor\":\"white\",\"linecolor\":\"white\",\"showbackground\":true,\"ticks\":\"\",\"zerolinecolor\":\"white\",\"gridwidth\":2},\"yaxis\":{\"backgroundcolor\":\"#E5ECF6\",\"gridcolor\":\"white\",\"linecolor\":\"white\",\"showbackground\":true,\"ticks\":\"\",\"zerolinecolor\":\"white\",\"gridwidth\":2},\"zaxis\":{\"backgroundcolor\":\"#E5ECF6\",\"gridcolor\":\"white\",\"linecolor\":\"white\",\"showbackground\":true,\"ticks\":\"\",\"zerolinecolor\":\"white\",\"gridwidth\":2}},\"shapedefaults\":{\"line\":{\"color\":\"#2a3f5f\"}},\"annotationdefaults\":{\"arrowcolor\":\"#2a3f5f\",\"arrowhead\":0,\"arrowwidth\":1},\"geo\":{\"bgcolor\":\"white\",\"landcolor\":\"#E5ECF6\",\"subunitcolor\":\"white\",\"showland\":true,\"showlakes\":true,\"lakecolor\":\"white\"},\"title\":{\"x\":0.05},\"mapbox\":{\"style\":\"light\"}}},\"title\":{\"text\":\"ROC Curve\"},\"xaxis\":{\"title\":{\"text\":\"false positive rate\"}},\"yaxis\":{\"title\":{\"text\":\"true positive rate\"}}},                        {\"responsive\": true}                    ).then(function(){\n",
              "                            \n",
              "var gd = document.getElementById('71fee875-62a7-4bbe-8900-44f3f397197d');\n",
              "var x = new MutationObserver(function (mutations, observer) {{\n",
              "        var display = window.getComputedStyle(gd).display;\n",
              "        if (!display || display === 'none') {{\n",
              "            console.log([gd, 'removed!']);\n",
              "            Plotly.purge(gd);\n",
              "            observer.disconnect();\n",
              "        }}\n",
              "}});\n",
              "\n",
              "// Listen for the removal of the full notebook cells\n",
              "var notebookContainer = gd.closest('#notebook-container');\n",
              "if (notebookContainer) {{\n",
              "    x.observe(notebookContainer, {childList: true});\n",
              "}}\n",
              "\n",
              "// Listen for the clearing of the current output cell\n",
              "var outputEl = gd.closest('.output');\n",
              "if (outputEl) {{\n",
              "    x.observe(outputEl, {childList: true});\n",
              "}}\n",
              "\n",
              "                        })                };                            </script>        </div>\n",
              "</body>\n",
              "</html>"
            ]
          },
          "metadata": {}
        },
        {
          "output_type": "display_data",
          "data": {
            "text/html": [
              "<html>\n",
              "<head><meta charset=\"utf-8\" /></head>\n",
              "<body>\n",
              "    <div>            <script src=\"https://cdnjs.cloudflare.com/ajax/libs/mathjax/2.7.5/MathJax.js?config=TeX-AMS-MML_SVG\"></script><script type=\"text/javascript\">if (window.MathJax && window.MathJax.Hub && window.MathJax.Hub.Config) {window.MathJax.Hub.Config({SVG: {font: \"STIX-Web\"}});}</script>                <script type=\"text/javascript\">window.PlotlyConfig = {MathJaxConfig: 'local'};</script>\n",
              "        <script charset=\"utf-8\" src=\"https://cdn.plot.ly/plotly-2.24.1.min.js\"></script>                <div id=\"01d18a24-caf2-460b-8a72-9cf63097ac0d\" class=\"plotly-graph-div\" style=\"height:525px; width:100%;\"></div>            <script type=\"text/javascript\">                                    window.PLOTLYENV=window.PLOTLYENV || {};                                    if (document.getElementById(\"01d18a24-caf2-460b-8a72-9cf63097ac0d\")) {                    Plotly.newPlot(                        \"01d18a24-caf2-460b-8a72-9cf63097ac0d\",                        [{\"mode\":\"lines\",\"name\":\"Precision-Recall Curve\",\"x\":[1.0,1.0,1.0,1.0,1.0,1.0,1.0,1.0,1.0,1.0,1.0,1.0,1.0,1.0,1.0,1.0,1.0,1.0,1.0,1.0,1.0,1.0,1.0,1.0,1.0,1.0,1.0,1.0,1.0,1.0,1.0,1.0,1.0,1.0,1.0,1.0,1.0,1.0,1.0,1.0,1.0,1.0,1.0,1.0,1.0,1.0,1.0,1.0,1.0,1.0,1.0,1.0,1.0,1.0,1.0,1.0,1.0,1.0,1.0,1.0,1.0,1.0,1.0,1.0,1.0,1.0,1.0,1.0,1.0,1.0,1.0,1.0,1.0,1.0,1.0,1.0,1.0,1.0,1.0,1.0,1.0,1.0,1.0,1.0,1.0,1.0,1.0,1.0,1.0,1.0,1.0,1.0,1.0,1.0,1.0,1.0,1.0,1.0,1.0,1.0,1.0,1.0,1.0,1.0,1.0,1.0,1.0,1.0,1.0,1.0,1.0,1.0,1.0,1.0,1.0,1.0,1.0,1.0,1.0,1.0,1.0,1.0,1.0,1.0,1.0,1.0,1.0,1.0,1.0,1.0,1.0,1.0,1.0,1.0,1.0,1.0,1.0,1.0,1.0,1.0,1.0,1.0,1.0,1.0,1.0,1.0,1.0,1.0,1.0,1.0,1.0,1.0,1.0,1.0,1.0,1.0,1.0,1.0,1.0,1.0,1.0,1.0,1.0,1.0,1.0,1.0,1.0,1.0,1.0,1.0,1.0,1.0,1.0,1.0,1.0,1.0,1.0,1.0,1.0,1.0,1.0,1.0,1.0,1.0,1.0,1.0,1.0,1.0,1.0,1.0,1.0,1.0,1.0,1.0,1.0,1.0,1.0,1.0,1.0,1.0,1.0,1.0,1.0,1.0,1.0,1.0,1.0,1.0,1.0,1.0,1.0,1.0,1.0,1.0,1.0,1.0,1.0,1.0,1.0,1.0,1.0,1.0,1.0,1.0,1.0,1.0,1.0,1.0,1.0,1.0,1.0,1.0,1.0,1.0,1.0,1.0,1.0,1.0,1.0,1.0,1.0,1.0,1.0,1.0,1.0,1.0,1.0,1.0,1.0,1.0,1.0,1.0,1.0,1.0,1.0,1.0,1.0,1.0,1.0,1.0,1.0,1.0,1.0,1.0,1.0,1.0,1.0,1.0,1.0,1.0,1.0,1.0,1.0,1.0,1.0,1.0,1.0,1.0,1.0,1.0,1.0,1.0,1.0,1.0,1.0,1.0,1.0,1.0,1.0,1.0,1.0,1.0,1.0,1.0,1.0,1.0,1.0,1.0,1.0,1.0,1.0,1.0,1.0,1.0,1.0,1.0,1.0,1.0,1.0,1.0,1.0,1.0,1.0,1.0,1.0,1.0,1.0,1.0,1.0,1.0,1.0,1.0,1.0,1.0,1.0,1.0,1.0,1.0,1.0,1.0,1.0,1.0,1.0,1.0,1.0,1.0,1.0,1.0,1.0,1.0,1.0,1.0,1.0,1.0,1.0,1.0,1.0,1.0,1.0,1.0,1.0,1.0,1.0,1.0,1.0,1.0,1.0,1.0,1.0,1.0,1.0,1.0,1.0,1.0,1.0,0.9933333333333333,0.9933333333333333,0.9933333333333333,0.9933333333333333,0.9933333333333333,0.9933333333333333,0.9933333333333333,0.9933333333333333,0.9933333333333333,0.9933333333333333,0.9933333333333333,0.9933333333333333,0.9933333333333333,0.9933333333333333,0.9933333333333333,0.9933333333333333,0.9933333333333333,0.9933333333333333,0.9933333333333333,0.9933333333333333,0.9933333333333333,0.9933333333333333,0.9933333333333333,0.9933333333333333,0.9933333333333333,0.9933333333333333,0.9933333333333333,0.9933333333333333,0.9933333333333333,0.9933333333333333,0.9933333333333333,0.9933333333333333,0.9933333333333333,0.9933333333333333,0.9933333333333333,0.9933333333333333,0.9933333333333333,0.9933333333333333,0.9933333333333333,0.9933333333333333,0.9933333333333333,0.9933333333333333,0.9933333333333333,0.9933333333333333,0.9933333333333333,0.9933333333333333,0.9933333333333333,0.9933333333333333,0.9933333333333333,0.9933333333333333,0.9933333333333333,0.9933333333333333,0.9933333333333333,0.9933333333333333,0.9933333333333333,0.9933333333333333,0.9933333333333333,0.9933333333333333,0.9933333333333333,0.9933333333333333,0.9933333333333333,0.9933333333333333,0.9933333333333333,0.9933333333333333,0.9933333333333333,0.9933333333333333,0.9933333333333333,0.9933333333333333,0.9933333333333333,0.9933333333333333,0.9933333333333333,0.9933333333333333,0.9933333333333333,0.9933333333333333,0.9933333333333333,0.9933333333333333,0.9933333333333333,0.9933333333333333,0.9933333333333333,0.9933333333333333,0.9933333333333333,0.9933333333333333,0.9933333333333333,0.9933333333333333,0.9933333333333333,0.9933333333333333,0.9933333333333333,0.9933333333333333,0.9933333333333333,0.9933333333333333,0.9933333333333333,0.9933333333333333,0.9933333333333333,0.9933333333333333,0.9933333333333333,0.9933333333333333,0.9933333333333333,0.9933333333333333,0.9933333333333333,0.9933333333333333,0.9933333333333333,0.9933333333333333,0.9933333333333333,0.9933333333333333,0.9933333333333333,0.9933333333333333,0.9933333333333333,0.9933333333333333,0.9933333333333333,0.9933333333333333,0.9933333333333333,0.9933333333333333,0.9933333333333333,0.9933333333333333,0.9933333333333333,0.9933333333333333,0.9933333333333333,0.9933333333333333,0.9933333333333333,0.9933333333333333,0.9933333333333333,0.9933333333333333,0.9933333333333333,0.9933333333333333,0.9933333333333333,0.9933333333333333,0.9933333333333333,0.9933333333333333,0.9933333333333333,0.9933333333333333,0.9933333333333333,0.9933333333333333,0.9933333333333333,0.9933333333333333,0.9933333333333333,0.9933333333333333,0.9933333333333333,0.9933333333333333,0.9933333333333333,0.9933333333333333,0.9933333333333333,0.9933333333333333,0.9933333333333333,0.9933333333333333,0.9933333333333333,0.9933333333333333,0.9933333333333333,0.9933333333333333,0.9933333333333333,0.9933333333333333,0.9933333333333333,0.9933333333333333,0.9933333333333333,0.9933333333333333,0.9933333333333333,0.9933333333333333,0.9933333333333333,0.9933333333333333,0.9933333333333333,0.9933333333333333,0.9933333333333333,0.9933333333333333,0.9933333333333333,0.9933333333333333,0.9933333333333333,0.9933333333333333,0.9933333333333333,0.9933333333333333,0.9933333333333333,0.9933333333333333,0.9933333333333333,0.9933333333333333,0.9933333333333333,0.9933333333333333,0.9933333333333333,0.9933333333333333,0.9933333333333333,0.9933333333333333,0.9933333333333333,0.9933333333333333,0.9933333333333333,0.9933333333333333,0.9933333333333333,0.9933333333333333,0.9933333333333333,0.9933333333333333,0.9933333333333333,0.9933333333333333,0.9933333333333333,0.9933333333333333,0.9933333333333333,0.9933333333333333,0.9933333333333333,0.9933333333333333,0.9933333333333333,0.9933333333333333,0.9933333333333333,0.9933333333333333,0.9933333333333333,0.9933333333333333,0.9933333333333333,0.9933333333333333,0.9933333333333333,0.9933333333333333,0.9933333333333333,0.9933333333333333,0.9933333333333333,0.9933333333333333,0.9933333333333333,0.9933333333333333,0.9933333333333333,0.9933333333333333,0.9933333333333333,0.9933333333333333,0.9933333333333333,0.9933333333333333,0.9933333333333333,0.9933333333333333,0.9933333333333333,0.9933333333333333,0.9933333333333333,0.9933333333333333,0.9933333333333333,0.9933333333333333,0.9933333333333333,0.9933333333333333,0.9933333333333333,0.9933333333333333,0.9933333333333333,0.9933333333333333,0.9933333333333333,0.9933333333333333,0.9933333333333333,0.9933333333333333,0.9933333333333333,0.9933333333333333,0.9933333333333333,0.9933333333333333,0.9933333333333333,0.9933333333333333,0.9933333333333333,0.9933333333333333,0.9933333333333333,0.9933333333333333,0.9933333333333333,0.9933333333333333,0.9933333333333333,0.9933333333333333,0.9933333333333333,0.9933333333333333,0.9933333333333333,0.9933333333333333,0.9933333333333333,0.9933333333333333,0.9933333333333333,0.9933333333333333,0.9933333333333333,0.9933333333333333,0.9933333333333333,0.9933333333333333,0.9933333333333333,0.9933333333333333,0.9933333333333333,0.9933333333333333,0.9933333333333333,0.9933333333333333,0.9933333333333333,0.9933333333333333,0.9933333333333333,0.9933333333333333,0.9933333333333333,0.9933333333333333,0.9933333333333333,0.9933333333333333,0.9933333333333333,0.9933333333333333,0.9933333333333333,0.9933333333333333,0.9933333333333333,0.9933333333333333,0.9933333333333333,0.9933333333333333,0.9933333333333333,0.9933333333333333,0.9933333333333333,0.9933333333333333,0.9933333333333333,0.9933333333333333,0.9933333333333333,0.9933333333333333,0.9933333333333333,0.9933333333333333,0.9933333333333333,0.9933333333333333,0.9933333333333333,0.9933333333333333,0.9933333333333333,0.9933333333333333,0.9933333333333333,0.9933333333333333,0.9933333333333333,0.9933333333333333,0.9933333333333333,0.9933333333333333,0.9933333333333333,0.9933333333333333,0.9933333333333333,0.9933333333333333,0.9933333333333333,0.9933333333333333,0.9933333333333333,0.9933333333333333,0.9933333333333333,0.9933333333333333,0.9933333333333333,0.9933333333333333,0.9933333333333333,0.9933333333333333,0.9933333333333333,0.9933333333333333,0.9933333333333333,0.9933333333333333,0.9933333333333333,0.9933333333333333,0.9933333333333333,0.9933333333333333,0.9933333333333333,0.9933333333333333,0.9933333333333333,0.9933333333333333,0.9933333333333333,0.9933333333333333,0.9933333333333333,0.9933333333333333,0.9933333333333333,0.9933333333333333,0.9933333333333333,0.9933333333333333,0.9933333333333333,0.9933333333333333,0.9866666666666667,0.9866666666666667,0.9866666666666667,0.9866666666666667,0.9866666666666667,0.9866666666666667,0.9866666666666667,0.9866666666666667,0.9866666666666667,0.9866666666666667,0.9866666666666667,0.9866666666666667,0.9866666666666667,0.9866666666666667,0.9866666666666667,0.9866666666666667,0.9866666666666667,0.9866666666666667,0.9866666666666667,0.9866666666666667,0.9866666666666667,0.9866666666666667,0.9866666666666667,0.9866666666666667,0.9866666666666667,0.9866666666666667,0.9866666666666667,0.9866666666666667,0.9866666666666667,0.9866666666666667,0.9866666666666667,0.9866666666666667,0.9866666666666667,0.9866666666666667,0.9866666666666667,0.9866666666666667,0.9866666666666667,0.9866666666666667,0.9866666666666667,0.9866666666666667,0.9866666666666667,0.9866666666666667,0.9866666666666667,0.9866666666666667,0.9866666666666667,0.9866666666666667,0.9866666666666667,0.9866666666666667,0.9866666666666667,0.9866666666666667,0.9866666666666667,0.9866666666666667,0.9866666666666667,0.9866666666666667,0.9866666666666667,0.9866666666666667,0.9866666666666667,0.9866666666666667,0.9866666666666667,0.9866666666666667,0.9866666666666667,0.9866666666666667,0.9866666666666667,0.9866666666666667,0.9866666666666667,0.9866666666666667,0.9866666666666667,0.9866666666666667,0.9866666666666667,0.9866666666666667,0.9866666666666667,0.9866666666666667,0.9866666666666667,0.9866666666666667,0.9866666666666667,0.9866666666666667,0.9866666666666667,0.9866666666666667,0.9866666666666667,0.9866666666666667,0.9866666666666667,0.9866666666666667,0.9866666666666667,0.9866666666666667,0.9866666666666667,0.9866666666666667,0.9866666666666667,0.9866666666666667,0.9733333333333334,0.9733333333333334,0.9733333333333334,0.9733333333333334,0.9733333333333334,0.9733333333333334,0.9733333333333334,0.9733333333333334,0.9733333333333334,0.9733333333333334,0.9733333333333334,0.9733333333333334,0.9733333333333334,0.9733333333333334,0.9733333333333334,0.9733333333333334,0.9733333333333334,0.9733333333333334,0.9733333333333334,0.9733333333333334,0.9733333333333334,0.9733333333333334,0.9733333333333334,0.9733333333333334,0.9733333333333334,0.9733333333333334,0.9733333333333334,0.9733333333333334,0.9733333333333334,0.9733333333333334,0.9733333333333334,0.9733333333333334,0.9733333333333334,0.9733333333333334,0.9733333333333334,0.9733333333333334,0.9733333333333334,0.9733333333333334,0.9733333333333334,0.9733333333333334,0.9733333333333334,0.9733333333333334,0.9733333333333334,0.9733333333333334,0.9733333333333334,0.9733333333333334,0.9733333333333334,0.9733333333333334,0.9733333333333334,0.9733333333333334,0.9733333333333334,0.9733333333333334,0.9733333333333334,0.9733333333333334,0.9733333333333334,0.9733333333333334,0.9733333333333334,0.9733333333333334,0.9733333333333334,0.9733333333333334,0.9733333333333334,0.9733333333333334,0.9733333333333334,0.9733333333333334,0.9733333333333334,0.9733333333333334,0.9733333333333334,0.9733333333333334,0.9733333333333334,0.9733333333333334,0.9733333333333334,0.9733333333333334,0.9733333333333334,0.9733333333333334,0.9733333333333334,0.9733333333333334,0.9733333333333334,0.9733333333333334,0.9733333333333334,0.9733333333333334,0.9733333333333334,0.9733333333333334,0.9733333333333334,0.9733333333333334,0.9666666666666667,0.9666666666666667,0.9666666666666667,0.96,0.96,0.96,0.96,0.96,0.96,0.96,0.96,0.96,0.96,0.96,0.96,0.9533333333333334,0.9533333333333334,0.9533333333333334,0.9466666666666667,0.9466666666666667,0.9466666666666667,0.9466666666666667,0.9466666666666667,0.9466666666666667,0.9466666666666667,0.9466666666666667,0.94,0.94,0.94,0.94,0.94,0.94,0.94,0.94,0.94,0.94,0.94,0.94,0.94,0.94,0.94,0.94,0.94,0.94,0.94,0.94,0.94,0.9333333333333333,0.9333333333333333,0.9333333333333333,0.9266666666666666,0.9266666666666666,0.9266666666666666,0.92,0.9133333333333333,0.9133333333333333,0.9066666666666666,0.9,0.8933333333333333,0.8866666666666667,0.8866666666666667,0.8866666666666667,0.88,0.8733333333333333,0.8666666666666667,0.86,0.8533333333333334,0.8533333333333334,0.8533333333333334,0.8533333333333334,0.8533333333333334,0.8466666666666667,0.84,0.84,0.8333333333333334,0.8266666666666667,0.82,0.8133333333333334,0.8066666666666666,0.8,0.7933333333333333,0.7866666666666666,0.78,0.78,0.7733333333333333,0.7666666666666667,0.7533333333333333,0.7466666666666667,0.74,0.7333333333333333,0.7266666666666667,0.72,0.7133333333333334,0.7066666666666667,0.7,0.6933333333333334,0.6866666666666666,0.68,0.6733333333333333,0.6666666666666666,0.66,0.6533333333333333,0.6466666666666666,0.64,0.6333333333333333,0.6266666666666667,0.62,0.6133333333333333,0.6066666666666667,0.6,0.5933333333333334,0.5866666666666667,0.58,0.5733333333333334,0.5666666666666667,0.5533333333333333,0.5533333333333333,0.5466666666666666,0.54,0.5333333333333333,0.5333333333333333,0.5266666666666666,0.52,0.5133333333333333,0.5066666666666667,0.5,0.49333333333333335,0.4866666666666667,0.48,0.47333333333333333,0.4666666666666667,0.4666666666666667,0.46,0.4533333333333333,0.44666666666666666,0.44,0.43333333333333335,0.4266666666666667,0.42,0.41333333333333333,0.4066666666666667,0.4,0.3933333333333333,0.38666666666666666,0.38666666666666666,0.38,0.37333333333333335,0.36666666666666664,0.36,0.3466666666666667,0.34,0.3333333333333333,0.32666666666666666,0.32,0.31333333333333335,0.31333333333333335,0.30666666666666664,0.3,0.29333333333333333,0.2866666666666667,0.28,0.2733333333333333,0.26666666666666666,0.26,0.25333333333333335,0.24666666666666667,0.24,0.23333333333333334,0.22666666666666666,0.22,0.21333333333333335,0.20666666666666667,0.2,0.19333333333333333,0.18666666666666668,0.18,0.17333333333333334,0.16666666666666666,0.16,0.15333333333333332,0.14666666666666667,0.14,0.13333333333333333,0.12666666666666668,0.12,0.11333333333333333,0.10666666666666667,0.1,0.09333333333333334,0.08666666666666667,0.08,0.07333333333333333,0.06666666666666667,0.06,0.05333333333333334,0.04666666666666667,0.04,0.03333333333333333,0.02666666666666667,0.02,0.013333333333333334,0.006666666666666667,0.0],\"y\":[0.13452914798206278,0.13464991023339318,0.1347708894878706,0.13489208633093525,0.135013501350135,0.13513513513513514,0.13525698827772767,0.13537906137184116,0.13550135501355012,0.13574660633484162,0.1358695652173913,0.1359927470534905,0.1366120218579235,0.13673655423883319,0.13686131386861314,0.136986301369863,0.13711151736745886,0.1372369624885636,0.13736263736263737,0.13748854262144822,0.13761467889908258,0.13774104683195593,0.13786764705882354,0.13799448022079117,0.13812154696132597,0.1382488479262673,0.13837638376383765,0.13850415512465375,0.13863216266173753,0.13876040703052728,0.1388888888888889,0.13901760889712697,0.1391465677179963,0.1392757660167131,0.13940520446096655,0.13953488372093023,0.13966480446927373,0.13979496738117428,0.13992537313432835,0.1400560224089636,0.14018691588785046,0.1403180542563143,0.1404494382022472,0.14058106841611998,0.14071294559099437,0.14084507042253522,0.14097744360902256,0.14111006585136407,0.14124293785310735,0.1413760603204524,0.14150943396226415,0.141643059490085,0.14177693761814744,0.14191106906338694,0.14204545454545456,0.14218009478672985,0.14231499051233396,0.14245014245014245,0.14258555133079848,0.14285714285714285,0.14299332697807435,0.1431297709923664,0.14326647564469913,0.14340344168260039,0.14354066985645933,0.14367816091954022,0.14381591562799617,0.14395393474088292,0.1440922190201729,0.14423076923076922,0.14436958614051973,0.14450867052023122,0.1446480231436837,0.14478764478764478,0.14492753623188406,0.1450676982591876,0.1452081316553727,0.14534883720930233,0.1454898157129001,0.14563106796116504,0.1457725947521866,0.14591439688715954,0.1460564751703992,0.14619883040935672,0.14634146341463414,0.146484375,0.1466275659824047,0.14677103718199608,0.14691478942213515,0.14705882352941177,0.14720314033366044,0.14734774066797643,0.14749262536873156,0.14763779527559054,0.1477832512315271,0.14792899408284024,0.14807502467917077,0.1482213438735178,0.14836795252225518,0.1485148514851485,0.14866204162537167,0.1488095238095238,0.14895729890764647,0.14910536779324055,0.14925373134328357,0.14940239043824702,0.14955134596211367,0.1497005988023952,0.14985014985014986,0.15,0.15015015015015015,0.15030060120240482,0.15045135406218657,0.15166835187057634,0.15182186234817813,0.1519756838905775,0.15212981744421908,0.15228426395939088,0.1524390243902439,0.1525940996948118,0.15274949083503056,0.1529051987767584,0.15306122448979592,0.15321756894790603,0.15337423312883436,0.1535312180143296,0.15368852459016394,0.15384615384615385,0.1540041067761807,0.15416238437821173,0.15432098765432098,0.15447991761071062,0.15463917525773196,0.15479876160990713,0.15495867768595042,0.15511892450879008,0.15527950310559005,0.15544041450777202,0.15560165975103735,0.1557632398753894,0.15592515592515593,0.15608740894901144,0.15625,0.15641293013555788,0.15657620041753653,0.15673981191222572,0.15690376569037656,0.15706806282722513,0.15723270440251572,0.15739769150052466,0.15756302521008403,0.15772870662460567,0.15789473684210525,0.15806111696522657,0.15822784810126583,0.1583949313621964,0.15856236786469344,0.15873015873015872,0.15889830508474576,0.15906680805938495,0.1592356687898089,0.1594048884165781,0.1595744680851064,0.1597444089456869,0.15991471215351813,0.16008537886872998,0.16025641025641027,0.16042780748663102,0.16059957173447537,0.1607717041800643,0.1609442060085837,0.1611170784103115,0.16129032258064516,0.16146393972012918,0.16181229773462782,0.16198704103671707,0.16216216216216217,0.16233766233766234,0.16251354279523295,0.16268980477223427,0.16286644951140064,0.16304347826086957,0.1632208922742111,0.16339869281045752,0.16357688113413305,0.16375545851528384,0.16393442622950818,0.16411378555798686,0.16429353778751368,0.16447368421052633,0.16465422612513722,0.16483516483516483,0.16501650165016502,0.16519823788546256,0.16538037486218302,0.16556291390728478,0.16574585635359115,0.16592920353982302,0.16611295681063123,0.1662971175166297,0.16648168701442842,0.16666666666666666,0.1668520578420467,0.16703786191536749,0.16722408026755853,0.16741071428571427,0.16759776536312848,0.16778523489932887,0.167973124300112,0.1681614349775785,0.16835016835016836,0.16853932584269662,0.1687289088863892,0.16891891891891891,0.16910935738444194,0.16930022573363432,0.1694915254237288,0.16968325791855204,0.16987542468856173,0.17006802721088435,0.170261066969353,0.17045454545454544,0.17064846416382254,0.17084282460136674,0.17103762827822122,0.17123287671232876,0.17142857142857143,0.17162471395881007,0.1718213058419244,0.1720183486238532,0.17221584385763491,0.1724137931034483,0.17261219792865362,0.1728110599078341,0.17301038062283736,0.17321016166281755,0.17341040462427745,0.1736111111111111,0.17381228273464658,0.1740139211136891,0.17421602787456447,0.1744186046511628,0.17462165308498254,0.17482517482517482,0.1750291715285881,0.17523364485981308,0.17543859649122806,0.1756440281030445,0.17584994138335286,0.176056338028169,0.1762632197414806,0.17688679245283018,0.1770956316410862,0.1773049645390071,0.17751479289940827,0.17772511848341233,0.17793594306049823,0.17814726840855108,0.178359096313912,0.17857142857142858,0.17878426698450536,0.17899761336515513,0.17921146953405018,0.17942583732057416,0.17964071856287425,0.17985611510791366,0.18007202881152462,0.18028846153846154,0.18050541516245489,0.18072289156626506,0.18094089264173704,0.18115942028985507,0.18137847642079807,0.18159806295399517,0.18181818181818182,0.1820388349514563,0.1822600243013366,0.18248175182481752,0.18270401948842874,0.18292682926829268,0.18315018315018314,0.18337408312958436,0.1835985312117503,0.18382352941176472,0.18404907975460122,0.18427518427518427,0.18450184501845018,0.18472906403940886,0.18495684340320592,0.18518518518518517,0.18541409147095178,0.18564356435643564,0.18587360594795538,0.18610421836228289,0.18633540372670807,0.1865671641791045,0.18679950186799502,0.18703241895261846,0.18726591760299627,0.1875,0.18773466833541927,0.18796992481203006,0.18820577164366373,0.1884422110552764,0.18867924528301888,0.1889168765743073,0.18915510718789408,0.1893939393939394,0.18963337547408343,0.189873417721519,0.19011406844106463,0.19035532994923857,0.1905972045743329,0.19083969465648856,0.1910828025477707,0.1913265306122449,0.19157088122605365,0.1918158567774936,0.19206145966709348,0.19230769230769232,0.1925545571245186,0.1928020565552699,0.19329896907216496,0.1935483870967742,0.1937984496124031,0.19404915912031048,0.19430051813471502,0.19455252918287938,0.19480519480519481,0.19505851755526657,0.1953125,0.19556714471968709,0.195822454308094,0.19607843137254902,0.19633507853403143,0.1965923984272608,0.1968503937007874,0.19710906701708278,0.19736842105263158,0.1976284584980237,0.19788918205804748,0.19815059445178335,0.1984126984126984,0.1986754966887417,0.1989389920424403,0.199203187250996,0.19973368841544606,0.2,0.20026702269692923,0.20053475935828877,0.20080321285140562,0.20107238605898123,0.20134228187919462,0.20161290322580644,0.2018842530282638,0.20215633423180593,0.20242914979757085,0.20270270270270271,0.2029769959404601,0.2032520325203252,0.20352781546811397,0.20408163265306123,0.20435967302452315,0.20463847203274216,0.20491803278688525,0.20383036935704515,0.20410958904109588,0.20438957475994513,0.20467032967032966,0.20495185694635487,0.20523415977961432,0.20551724137931035,0.2058011049723757,0.20608575380359612,0.20637119113573407,0.20665742024965325,0.20694444444444443,0.20723226703755215,0.2075208913649025,0.20781032078103207,0.20810055865921787,0.2083916083916084,0.20868347338935575,0.20897615708274894,0.20926966292134833,0.20956399437412096,0.20985915492957746,0.21015514809590974,0.21045197740112995,0.21074964639321075,0.21104815864022664,0.21134751773049645,0.21164772727272727,0.2119487908961593,0.21225071225071226,0.21255349500713266,0.21285714285714286,0.21316165951359084,0.2134670487106017,0.21377331420373027,0.21408045977011494,0.2143884892086331,0.21469740634005763,0.215007215007215,0.2153179190751445,0.21562952243125905,0.21594202898550724,0.216255442670537,0.21656976744186046,0.21688500727802038,0.21720116618075802,0.21751824817518248,0.21783625730994152,0.21815519765739386,0.218475073313783,0.21879588839941264,0.21911764705882353,0.21944035346097202,0.21976401179941002,0.22008862629246675,0.22041420118343194,0.22074074074074074,0.22106824925816024,0.2213967310549777,0.22172619047619047,0.22205663189269748,0.22238805970149253,0.2227204783258595,0.22305389221556887,0.22338830584707647,0.22372372372372373,0.22406015037593985,0.22439759036144577,0.22473604826546004,0.22507552870090636,0.2254160363086233,0.22575757575757577,0.22610015174506828,0.22644376899696048,0.2267884322678843,0.22713414634146342,0.22748091603053436,0.22782874617737003,0.22817764165390506,0.2285276073619632,0.22887864823348694,0.22923076923076924,0.2295839753466872,0.22993827160493827,0.2302936630602782,0.2306501547987616,0.2310077519379845,0.23136645962732919,0.2317262830482115,0.23208722741433022,0.23244929797191888,0.2328125,0.23317683881064163,0.2335423197492163,0.23390894819466249,0.23427672955974843,0.2346456692913386,0.23501577287066247,0.2353870458135861,0.23575949367088608,0.23613312202852615,0.2368839427662957,0.2372611464968153,0.23763955342902712,0.2380191693290735,0.2384,0.2387820512820513,0.2391653290529695,0.2395498392282958,0.23993558776167473,0.2403225806451613,0.2407108239095315,0.24110032362459546,0.24149108589951376,0.2418831168831169,0.24227642276422764,0.24267100977198697,0.24306688417618272,0.2434640522875817,0.24386252045826515,0.2442622950819672,0.24466338259441708,0.2450657894736842,0.24546952224052718,0.24587458745874588,0.2462809917355372,0.24668874172185432,0.2470978441127695,0.24750830564784054,0.24792013311148087,0.24833333333333332,0.24874791318864775,0.2491638795986622,0.24958123953098826,0.25,0.2504201680672269,0.25084175084175087,0.25126475548060706,0.2516891891891892,0.2521150592216582,0.25254237288135595,0.2529711375212224,0.2534013605442177,0.25383304940374785,0.25426621160409557,0.2547008547008547,0.2551369863013699,0.2555746140651801,0.25601374570446733,0.25645438898450945,0.25689655172413794,0.25734024179620035,0.2577854671280277,0.2582322357019064,0.2586805555555556,0.2591304347826087,0.259581881533101,0.2600349040139616,0.26048951048951047,0.2609457092819615,0.2614035087719298,0.2618629173989455,0.2623239436619718,0.26278659611992944,0.26325088339222613,0.26371681415929205,0.2641843971631206,0.26465364120781526,0.26512455516014233,0.26559714795008915,0.26607142857142857,0.26654740608228983,0.2670250896057348,0.26750448833034113,0.26798561151079137,0.26846846846846845,0.26895306859205775,0.2694394213381555,0.26992753623188404,0.27041742286751363,0.27090909090909093,0.27140255009107467,0.2718978102189781,0.27239488117001825,0.27289377289377287,0.27339449541284405,0.27389705882352944,0.27440147329650094,0.27490774907749077,0.2754158964879852,0.2759259259259259,0.2764378478664193,0.27695167286245354,0.2774674115456238,0.27798507462686567,0.27850467289719627,0.27902621722846443,0.2795497185741088,0.2800751879699248,0.2806026365348399,0.2811320754716981,0.28166351606805295,0.2821969696969697,0.2827324478178368,0.2832699619771863,0.2838095238095238,0.28435114503816794,0.28489483747609945,0.28544061302681994,0.28598848368522073,0.2865384615384615,0.28709055876685935,0.2876447876447876,0.28820116054158607,0.28875968992248063,0.28932038834951457,0.2898832684824903,0.290448343079922,0.291015625,0.29158512720156554,0.29215686274509806,0.29273084479371314,0.2933070866141732,0.2938856015779093,0.29446640316205536,0.29504950495049503,0.29563492063492064,0.2962226640159046,0.2968127490039841,0.29740518962075846,0.298,0.2985971943887776,0.2991967871485944,0.29979879275653926,0.3016194331983806,0.3022312373225152,0.30284552845528456,0.3034623217922607,0.3040816326530612,0.3047034764826176,0.305327868852459,0.3059548254620123,0.3065843621399177,0.30785123966942146,0.3084886128364389,0.3091286307053942,0.3097713097713098,0.3104166666666667,0.31106471816283926,0.3117154811715481,0.31236897274633124,0.3130252100840336,0.3136842105263158,0.3143459915611814,0.3150105708245243,0.3156779661016949,0.31634819532908703,0.3170212765957447,0.31769722814498935,0.31837606837606836,0.31905781584582443,0.3197424892703863,0.3204301075268817,0.32112068965517243,0.32181425485961124,0.3225108225108225,0.3232104121475054,0.3239130434782609,0.32461873638344224,0.32532751091703055,0.32603938730853393,0.3267543859649123,0.3274725274725275,0.32819383259911894,0.32891832229580575,0.32964601769911506,0.3303769401330377,0.33111111111111113,0.33184855233853006,0.3325892857142857,0.3333333333333333,0.33408071748878926,0.3348314606741573,0.3355855855855856,0.3363431151241535,0.33710407239819007,0.3378684807256236,0.3386363636363636,0.33940774487471526,0.3401826484018265,0.34096109839816935,0.34174311926605505,0.3425287356321839,0.3433179723502304,0.3441108545034642,0.3449074074074074,0.345707656612529,0.34651162790697676,0.3473193473193473,0.34813084112149534,0.34894613583138173,0.34976525821596244,0.35058823529411764,0.35141509433962265,0.35224586288416077,0.35308056872037913,0.35391923990498814,0.3547619047619048,0.3556085918854415,0.35645933014354064,0.35731414868105515,0.3581730769230769,0.35903614457831323,0.35990338164251207,0.36077481840193704,0.3616504854368932,0.36253041362530414,0.36341463414634145,0.3643031784841076,0.36519607843137253,0.36609336609336607,0.36790123456790125,0.3688118811881188,0.369727047146402,0.3706467661691542,0.371571072319202,0.3725,0.37343358395989973,0.3743718592964824,0.37531486146095716,0.37626262626262624,0.37721518987341773,0.37817258883248733,0.3791348600508906,0.38010204081632654,0.38107416879795397,0.382051282051282,0.38303341902313626,0.38402061855670105,0.3850129198966408,0.38341968911917096,0.38441558441558443,0.3854166666666667,0.38642297650130547,0.387434554973822,0.3884514435695538,0.3894736842105263,0.39050131926121373,0.3915343915343915,0.3925729442970822,0.39361702127659576,0.39466666666666667,0.39572192513368987,0.3967828418230563,0.3978494623655914,0.39892183288409705,0.4,0.4010840108401084,0.40217391304347827,0.4032697547683924,0.40437158469945356,0.4054794520547945,0.4065934065934066,0.40771349862258954,0.4088397790055249,0.4099722991689751,0.4111111111111111,0.41225626740947074,0.4134078212290503,0.41456582633053224,0.4157303370786517,0.4169014084507042,0.4180790960451977,0.4192634560906516,0.42045454545454547,0.42165242165242167,0.4228571428571429,0.42406876790830944,0.42528735632183906,0.4265129682997118,0.4277456647398844,0.4289855072463768,0.43023255813953487,0.4314868804664723,0.4327485380116959,0.4340175953079179,0.43529411764705883,0.4365781710914454,0.4378698224852071,0.4391691394658754,0.44047619047619047,0.4417910447761194,0.4431137724550898,0.4444444444444444,0.4457831325301205,0.4471299093655589,0.4484848484848485,0.44984802431610943,0.45121951219512196,0.4525993883792049,0.4539877300613497,0.4553846153846154,0.4567901234567901,0.4582043343653251,0.45962732919254656,0.46105919003115264,0.4625,0.46394984326018807,0.46540880503144655,0.4668769716088328,0.46835443037974683,0.46984126984126984,0.4713375796178344,0.4728434504792332,0.47435897435897434,0.4758842443729904,0.4774193548387097,0.47896440129449835,0.4805194805194805,0.48366013071895425,0.4852459016393443,0.4868421052631579,0.4884488448844885,0.4900662251655629,0.49169435215946844,0.49333333333333335,0.49498327759197325,0.4966442953020134,0.503448275862069,0.5051903114186851,0.5069444444444444,0.5087108013937283,0.5104895104895105,0.512280701754386,0.5140845070422535,0.5159010600706714,0.5177304964539007,0.5195729537366548,0.5214285714285715,0.5232974910394266,0.5251798561151079,0.5270758122743683,0.5289855072463768,0.5309090909090909,0.5328467153284672,0.5347985347985348,0.5367647058823529,0.5387453874538746,0.5407407407407407,0.5427509293680297,0.5447761194029851,0.5468164794007491,0.5488721804511278,0.553030303030303,0.5551330798479087,0.5572519083969466,0.5593869731800766,0.5615384615384615,0.5637065637065637,0.5658914728682171,0.5680933852140078,0.5703125,0.5725490196078431,0.5748031496062992,0.5770750988142292,0.5793650793650794,0.5816733067729084,0.584,0.5863453815261044,0.5887096774193549,0.5910931174089069,0.5934959349593496,0.5959183673469388,0.5983606557377049,0.6008230452674898,0.6033057851239669,0.6058091286307054,0.6083333333333333,0.6108786610878661,0.6134453781512605,0.6160337552742616,0.6186440677966102,0.6212765957446809,0.6239316239316239,0.6266094420600858,0.6293103448275862,0.6320346320346321,0.6347826086956522,0.6375545851528385,0.6403508771929824,0.6431718061674009,0.6460176991150443,0.6488888888888888,0.6517857142857143,0.6547085201793722,0.6576576576576577,0.6606334841628959,0.6636363636363637,0.6666666666666666,0.6697247706422018,0.6728110599078341,0.6759259259259259,0.6790697674418604,0.6822429906542056,0.6854460093896714,0.6886792452830188,0.6919431279620853,0.6952380952380952,0.6985645933014354,0.7019230769230769,0.7053140096618358,0.7087378640776699,0.7073170731707317,0.7107843137254902,0.7142857142857143,0.7128712871287128,0.7164179104477612,0.72,0.7236180904522613,0.7272727272727273,0.7309644670050761,0.7346938775510204,0.7384615384615385,0.7422680412371134,0.7461139896373057,0.75,0.7539267015706806,0.7526315789473684,0.7566137566137566,0.7606382978723404,0.7593582887700535,0.7634408602150538,0.7675675675675676,0.7717391304347826,0.7759562841530054,0.7802197802197802,0.7845303867403315,0.7888888888888889,0.7877094972067039,0.7921348314606742,0.7966101694915254,0.8011363636363636,0.8057142857142857,0.8103448275862069,0.815028901734104,0.8197674418604651,0.8245614035087719,0.8294117647058824,0.834319526627219,0.8392857142857143,0.844311377245509,0.8493975903614458,0.8545454545454545,0.8597560975609756,0.8650306748466258,0.8703703703703703,0.8757763975155279,0.88125,0.8867924528301887,0.8860759493670886,0.89171974522293,0.8974358974358975,0.896774193548387,0.9025974025974026,0.9084967320261438,0.9078947368421053,0.9072847682119205,0.9133333333333333,0.912751677852349,0.9121621621621622,0.9115646258503401,0.910958904109589,0.9172413793103448,0.9236111111111112,0.9230769230769231,0.9225352112676056,0.9219858156028369,0.9214285714285714,0.920863309352518,0.927536231884058,0.9343065693430657,0.9411764705882353,0.9481481481481482,0.9477611940298507,0.9473684210526315,0.9545454545454546,0.9541984732824428,0.9538461538461539,0.9534883720930233,0.953125,0.952755905511811,0.9523809523809523,0.952,0.9516129032258065,0.9512195121951219,0.9590163934426229,0.9586776859504132,0.9583333333333334,0.9576271186440678,0.9572649572649573,0.9568965517241379,0.9565217391304348,0.956140350877193,0.9557522123893806,0.9553571428571429,0.954954954954955,0.9545454545454546,0.9541284403669725,0.9537037037037037,0.9532710280373832,0.9528301886792453,0.9523809523809523,0.9519230769230769,0.9514563106796117,0.9509803921568627,0.9504950495049505,0.95,0.9494949494949495,0.9489795918367347,0.9484536082474226,0.9479166666666666,0.9473684210526315,0.9468085106382979,0.946236559139785,0.9456521739130435,0.945054945054945,0.9444444444444444,0.9431818181818182,0.9540229885057471,0.9534883720930233,0.9529411764705882,0.9523809523809523,0.963855421686747,0.9634146341463414,0.9629629629629629,0.9625,0.9620253164556962,0.9615384615384616,0.961038961038961,0.9605263157894737,0.96,0.9594594594594594,0.958904109589041,0.9722222222222222,0.971830985915493,0.9714285714285714,0.9710144927536232,0.9705882352941176,0.9701492537313433,0.9696969696969697,0.9692307692307692,0.96875,0.9682539682539683,0.967741935483871,0.9672131147540983,0.9666666666666667,0.9830508474576272,0.9827586206896551,0.9824561403508771,0.9821428571428571,0.9818181818181818,0.9811320754716981,0.9807692307692307,0.9803921568627451,0.98,0.9795918367346939,0.9791666666666666,1.0,1.0,1.0,1.0,1.0,1.0,1.0,1.0,1.0,1.0,1.0,1.0,1.0,1.0,1.0,1.0,1.0,1.0,1.0,1.0,1.0,1.0,1.0,1.0,1.0,1.0,1.0,1.0,1.0,1.0,1.0,1.0,1.0,1.0,1.0,1.0,1.0,1.0,1.0,1.0,1.0,1.0,1.0,1.0,1.0,1.0,1.0,1.0],\"type\":\"scatter\"}],                        {\"template\":{\"data\":{\"histogram2dcontour\":[{\"type\":\"histogram2dcontour\",\"colorbar\":{\"outlinewidth\":0,\"ticks\":\"\"},\"colorscale\":[[0.0,\"#0d0887\"],[0.1111111111111111,\"#46039f\"],[0.2222222222222222,\"#7201a8\"],[0.3333333333333333,\"#9c179e\"],[0.4444444444444444,\"#bd3786\"],[0.5555555555555556,\"#d8576b\"],[0.6666666666666666,\"#ed7953\"],[0.7777777777777778,\"#fb9f3a\"],[0.8888888888888888,\"#fdca26\"],[1.0,\"#f0f921\"]]}],\"choropleth\":[{\"type\":\"choropleth\",\"colorbar\":{\"outlinewidth\":0,\"ticks\":\"\"}}],\"histogram2d\":[{\"type\":\"histogram2d\",\"colorbar\":{\"outlinewidth\":0,\"ticks\":\"\"},\"colorscale\":[[0.0,\"#0d0887\"],[0.1111111111111111,\"#46039f\"],[0.2222222222222222,\"#7201a8\"],[0.3333333333333333,\"#9c179e\"],[0.4444444444444444,\"#bd3786\"],[0.5555555555555556,\"#d8576b\"],[0.6666666666666666,\"#ed7953\"],[0.7777777777777778,\"#fb9f3a\"],[0.8888888888888888,\"#fdca26\"],[1.0,\"#f0f921\"]]}],\"heatmap\":[{\"type\":\"heatmap\",\"colorbar\":{\"outlinewidth\":0,\"ticks\":\"\"},\"colorscale\":[[0.0,\"#0d0887\"],[0.1111111111111111,\"#46039f\"],[0.2222222222222222,\"#7201a8\"],[0.3333333333333333,\"#9c179e\"],[0.4444444444444444,\"#bd3786\"],[0.5555555555555556,\"#d8576b\"],[0.6666666666666666,\"#ed7953\"],[0.7777777777777778,\"#fb9f3a\"],[0.8888888888888888,\"#fdca26\"],[1.0,\"#f0f921\"]]}],\"heatmapgl\":[{\"type\":\"heatmapgl\",\"colorbar\":{\"outlinewidth\":0,\"ticks\":\"\"},\"colorscale\":[[0.0,\"#0d0887\"],[0.1111111111111111,\"#46039f\"],[0.2222222222222222,\"#7201a8\"],[0.3333333333333333,\"#9c179e\"],[0.4444444444444444,\"#bd3786\"],[0.5555555555555556,\"#d8576b\"],[0.6666666666666666,\"#ed7953\"],[0.7777777777777778,\"#fb9f3a\"],[0.8888888888888888,\"#fdca26\"],[1.0,\"#f0f921\"]]}],\"contourcarpet\":[{\"type\":\"contourcarpet\",\"colorbar\":{\"outlinewidth\":0,\"ticks\":\"\"}}],\"contour\":[{\"type\":\"contour\",\"colorbar\":{\"outlinewidth\":0,\"ticks\":\"\"},\"colorscale\":[[0.0,\"#0d0887\"],[0.1111111111111111,\"#46039f\"],[0.2222222222222222,\"#7201a8\"],[0.3333333333333333,\"#9c179e\"],[0.4444444444444444,\"#bd3786\"],[0.5555555555555556,\"#d8576b\"],[0.6666666666666666,\"#ed7953\"],[0.7777777777777778,\"#fb9f3a\"],[0.8888888888888888,\"#fdca26\"],[1.0,\"#f0f921\"]]}],\"surface\":[{\"type\":\"surface\",\"colorbar\":{\"outlinewidth\":0,\"ticks\":\"\"},\"colorscale\":[[0.0,\"#0d0887\"],[0.1111111111111111,\"#46039f\"],[0.2222222222222222,\"#7201a8\"],[0.3333333333333333,\"#9c179e\"],[0.4444444444444444,\"#bd3786\"],[0.5555555555555556,\"#d8576b\"],[0.6666666666666666,\"#ed7953\"],[0.7777777777777778,\"#fb9f3a\"],[0.8888888888888888,\"#fdca26\"],[1.0,\"#f0f921\"]]}],\"mesh3d\":[{\"type\":\"mesh3d\",\"colorbar\":{\"outlinewidth\":0,\"ticks\":\"\"}}],\"scatter\":[{\"fillpattern\":{\"fillmode\":\"overlay\",\"size\":10,\"solidity\":0.2},\"type\":\"scatter\"}],\"parcoords\":[{\"type\":\"parcoords\",\"line\":{\"colorbar\":{\"outlinewidth\":0,\"ticks\":\"\"}}}],\"scatterpolargl\":[{\"type\":\"scatterpolargl\",\"marker\":{\"colorbar\":{\"outlinewidth\":0,\"ticks\":\"\"}}}],\"bar\":[{\"error_x\":{\"color\":\"#2a3f5f\"},\"error_y\":{\"color\":\"#2a3f5f\"},\"marker\":{\"line\":{\"color\":\"#E5ECF6\",\"width\":0.5},\"pattern\":{\"fillmode\":\"overlay\",\"size\":10,\"solidity\":0.2}},\"type\":\"bar\"}],\"scattergeo\":[{\"type\":\"scattergeo\",\"marker\":{\"colorbar\":{\"outlinewidth\":0,\"ticks\":\"\"}}}],\"scatterpolar\":[{\"type\":\"scatterpolar\",\"marker\":{\"colorbar\":{\"outlinewidth\":0,\"ticks\":\"\"}}}],\"histogram\":[{\"marker\":{\"pattern\":{\"fillmode\":\"overlay\",\"size\":10,\"solidity\":0.2}},\"type\":\"histogram\"}],\"scattergl\":[{\"type\":\"scattergl\",\"marker\":{\"colorbar\":{\"outlinewidth\":0,\"ticks\":\"\"}}}],\"scatter3d\":[{\"type\":\"scatter3d\",\"line\":{\"colorbar\":{\"outlinewidth\":0,\"ticks\":\"\"}},\"marker\":{\"colorbar\":{\"outlinewidth\":0,\"ticks\":\"\"}}}],\"scattermapbox\":[{\"type\":\"scattermapbox\",\"marker\":{\"colorbar\":{\"outlinewidth\":0,\"ticks\":\"\"}}}],\"scatterternary\":[{\"type\":\"scatterternary\",\"marker\":{\"colorbar\":{\"outlinewidth\":0,\"ticks\":\"\"}}}],\"scattercarpet\":[{\"type\":\"scattercarpet\",\"marker\":{\"colorbar\":{\"outlinewidth\":0,\"ticks\":\"\"}}}],\"carpet\":[{\"aaxis\":{\"endlinecolor\":\"#2a3f5f\",\"gridcolor\":\"white\",\"linecolor\":\"white\",\"minorgridcolor\":\"white\",\"startlinecolor\":\"#2a3f5f\"},\"baxis\":{\"endlinecolor\":\"#2a3f5f\",\"gridcolor\":\"white\",\"linecolor\":\"white\",\"minorgridcolor\":\"white\",\"startlinecolor\":\"#2a3f5f\"},\"type\":\"carpet\"}],\"table\":[{\"cells\":{\"fill\":{\"color\":\"#EBF0F8\"},\"line\":{\"color\":\"white\"}},\"header\":{\"fill\":{\"color\":\"#C8D4E3\"},\"line\":{\"color\":\"white\"}},\"type\":\"table\"}],\"barpolar\":[{\"marker\":{\"line\":{\"color\":\"#E5ECF6\",\"width\":0.5},\"pattern\":{\"fillmode\":\"overlay\",\"size\":10,\"solidity\":0.2}},\"type\":\"barpolar\"}],\"pie\":[{\"automargin\":true,\"type\":\"pie\"}]},\"layout\":{\"autotypenumbers\":\"strict\",\"colorway\":[\"#636efa\",\"#EF553B\",\"#00cc96\",\"#ab63fa\",\"#FFA15A\",\"#19d3f3\",\"#FF6692\",\"#B6E880\",\"#FF97FF\",\"#FECB52\"],\"font\":{\"color\":\"#2a3f5f\"},\"hovermode\":\"closest\",\"hoverlabel\":{\"align\":\"left\"},\"paper_bgcolor\":\"white\",\"plot_bgcolor\":\"#E5ECF6\",\"polar\":{\"bgcolor\":\"#E5ECF6\",\"angularaxis\":{\"gridcolor\":\"white\",\"linecolor\":\"white\",\"ticks\":\"\"},\"radialaxis\":{\"gridcolor\":\"white\",\"linecolor\":\"white\",\"ticks\":\"\"}},\"ternary\":{\"bgcolor\":\"#E5ECF6\",\"aaxis\":{\"gridcolor\":\"white\",\"linecolor\":\"white\",\"ticks\":\"\"},\"baxis\":{\"gridcolor\":\"white\",\"linecolor\":\"white\",\"ticks\":\"\"},\"caxis\":{\"gridcolor\":\"white\",\"linecolor\":\"white\",\"ticks\":\"\"}},\"coloraxis\":{\"colorbar\":{\"outlinewidth\":0,\"ticks\":\"\"}},\"colorscale\":{\"sequential\":[[0.0,\"#0d0887\"],[0.1111111111111111,\"#46039f\"],[0.2222222222222222,\"#7201a8\"],[0.3333333333333333,\"#9c179e\"],[0.4444444444444444,\"#bd3786\"],[0.5555555555555556,\"#d8576b\"],[0.6666666666666666,\"#ed7953\"],[0.7777777777777778,\"#fb9f3a\"],[0.8888888888888888,\"#fdca26\"],[1.0,\"#f0f921\"]],\"sequentialminus\":[[0.0,\"#0d0887\"],[0.1111111111111111,\"#46039f\"],[0.2222222222222222,\"#7201a8\"],[0.3333333333333333,\"#9c179e\"],[0.4444444444444444,\"#bd3786\"],[0.5555555555555556,\"#d8576b\"],[0.6666666666666666,\"#ed7953\"],[0.7777777777777778,\"#fb9f3a\"],[0.8888888888888888,\"#fdca26\"],[1.0,\"#f0f921\"]],\"diverging\":[[0,\"#8e0152\"],[0.1,\"#c51b7d\"],[0.2,\"#de77ae\"],[0.3,\"#f1b6da\"],[0.4,\"#fde0ef\"],[0.5,\"#f7f7f7\"],[0.6,\"#e6f5d0\"],[0.7,\"#b8e186\"],[0.8,\"#7fbc41\"],[0.9,\"#4d9221\"],[1,\"#276419\"]]},\"xaxis\":{\"gridcolor\":\"white\",\"linecolor\":\"white\",\"ticks\":\"\",\"title\":{\"standoff\":15},\"zerolinecolor\":\"white\",\"automargin\":true,\"zerolinewidth\":2},\"yaxis\":{\"gridcolor\":\"white\",\"linecolor\":\"white\",\"ticks\":\"\",\"title\":{\"standoff\":15},\"zerolinecolor\":\"white\",\"automargin\":true,\"zerolinewidth\":2},\"scene\":{\"xaxis\":{\"backgroundcolor\":\"#E5ECF6\",\"gridcolor\":\"white\",\"linecolor\":\"white\",\"showbackground\":true,\"ticks\":\"\",\"zerolinecolor\":\"white\",\"gridwidth\":2},\"yaxis\":{\"backgroundcolor\":\"#E5ECF6\",\"gridcolor\":\"white\",\"linecolor\":\"white\",\"showbackground\":true,\"ticks\":\"\",\"zerolinecolor\":\"white\",\"gridwidth\":2},\"zaxis\":{\"backgroundcolor\":\"#E5ECF6\",\"gridcolor\":\"white\",\"linecolor\":\"white\",\"showbackground\":true,\"ticks\":\"\",\"zerolinecolor\":\"white\",\"gridwidth\":2}},\"shapedefaults\":{\"line\":{\"color\":\"#2a3f5f\"}},\"annotationdefaults\":{\"arrowcolor\":\"#2a3f5f\",\"arrowhead\":0,\"arrowwidth\":1},\"geo\":{\"bgcolor\":\"white\",\"landcolor\":\"#E5ECF6\",\"subunitcolor\":\"white\",\"showland\":true,\"showlakes\":true,\"lakecolor\":\"white\"},\"title\":{\"x\":0.05},\"mapbox\":{\"style\":\"light\"}}},\"title\":{\"text\":\"Precision-Recall Curve\"},\"xaxis\":{\"title\":{\"text\":\"Recall\"}},\"yaxis\":{\"title\":{\"text\":\"Precision\"}}},                        {\"responsive\": true}                    ).then(function(){\n",
              "                            \n",
              "var gd = document.getElementById('01d18a24-caf2-460b-8a72-9cf63097ac0d');\n",
              "var x = new MutationObserver(function (mutations, observer) {{\n",
              "        var display = window.getComputedStyle(gd).display;\n",
              "        if (!display || display === 'none') {{\n",
              "            console.log([gd, 'removed!']);\n",
              "            Plotly.purge(gd);\n",
              "            observer.disconnect();\n",
              "        }}\n",
              "}});\n",
              "\n",
              "// Listen for the removal of the full notebook cells\n",
              "var notebookContainer = gd.closest('#notebook-container');\n",
              "if (notebookContainer) {{\n",
              "    x.observe(notebookContainer, {childList: true});\n",
              "}}\n",
              "\n",
              "// Listen for the clearing of the current output cell\n",
              "var outputEl = gd.closest('.output');\n",
              "if (outputEl) {{\n",
              "    x.observe(outputEl, {childList: true});\n",
              "}}\n",
              "\n",
              "                        })                };                            </script>        </div>\n",
              "</body>\n",
              "</html>"
            ]
          },
          "metadata": {}
        }
      ]
    },
    {
      "cell_type": "code",
      "source": [
        "from sklearn.metrics import accuracy_score\n",
        "\n",
        "accuracy = accuracy_score(y_test, y_pred)\n",
        "print(f\"Accuracy: {accuracy:.2f}\")"
      ],
      "metadata": {
        "colab": {
          "base_uri": "https://localhost:8080/"
        },
        "id": "qhl0QCeJm69a",
        "outputId": "885682e4-33d5-4ebf-811f-f103e3c031f2"
      },
      "execution_count": 50,
      "outputs": [
        {
          "output_type": "stream",
          "name": "stdout",
          "text": [
            "Accuracy: 0.95\n"
          ]
        }
      ]
    },
    {
      "cell_type": "code",
      "source": [
        "import joblib\n",
        "import warnings\n",
        "\n",
        "model_filename = 'spam_detection_model.joblib'\n",
        "joblib.dump(logreg_model, model_filename)\n",
        "print(f\"Model saved as {model_filename}\")"
      ],
      "metadata": {
        "colab": {
          "base_uri": "https://localhost:8080/"
        },
        "id": "s7Sk6VFrnExQ",
        "outputId": "4613aabd-7508-495a-fe16-7fba92ace041"
      },
      "execution_count": 51,
      "outputs": [
        {
          "output_type": "stream",
          "name": "stdout",
          "text": [
            "Model saved as spam_detection_model.joblib\n"
          ]
        }
      ]
    },
    {
      "cell_type": "code",
      "source": [
        "example_strings = [\n",
        "    \"Congratulations, you've won a free vacation! Reply now to claim your prize.\",\n",
        "    \"Hi, how are you doing?\"\n",
        "]\n",
        "\n",
        "\n",
        "loaded_model = joblib.load(model_filename)\n",
        "\n",
        "\n",
        "predictions = []\n",
        "with warnings.catch_warnings():\n",
        "    warnings.simplefilter(\"ignore\")\n",
        "\n",
        "    for example_string in example_strings:\n",
        "        example_tokens = word_tokenize(example_string)\n",
        "        example_tokens = [word for word in example_tokens if word.lower() not in stop_words]\n",
        "        example_text = ' '.join(example_tokens)\n",
        "\n",
        "        example_tfidf = tfidf_vectorizer.transform([example_text])\n",
        "        prediction = loaded_model.predict(example_tfidf)\n",
        "\n",
        "        if prediction[0] == 1:\n",
        "            predictions.append(\"Spam\")\n",
        "        else:\n",
        "            predictions.append(\"Ham\")\n",
        "\n",
        "for i, prediction in enumerate(predictions):\n",
        "    print(f\"Prediction for example {i+1}: {prediction}\")"
      ],
      "metadata": {
        "colab": {
          "base_uri": "https://localhost:8080/"
        },
        "id": "hg9B6bctnNHw",
        "outputId": "96f2439f-dac2-4a39-b1db-1dcd49f3c655"
      },
      "execution_count": 52,
      "outputs": [
        {
          "output_type": "stream",
          "name": "stdout",
          "text": [
            "Prediction for example 1: Spam\n",
            "Prediction for example 2: Ham\n"
          ]
        }
      ]
    },
    {
      "cell_type": "markdown",
      "source": [
        "Naive Bayes Model\n"
      ],
      "metadata": {
        "id": "1Zlr55j42pi2"
      }
    },
    {
      "cell_type": "code",
      "source": [
        "#Delete unnecessary columns and rename \"v1\" and \"v2\n",
        "columns_to_drop = ['Unnamed: 2', 'Unnamed: 3', 'Unnamed: 4']\n",
        "df.drop(columns_to_drop, inplace=True, axis=1)\n",
        "df.columns = [\"Category\", \"Message\"]"
      ],
      "metadata": {
        "id": "foDMsX092qYu"
      },
      "execution_count": 53,
      "outputs": []
    },
    {
      "cell_type": "code",
      "source": [
        "df.columns"
      ],
      "metadata": {
        "colab": {
          "base_uri": "https://localhost:8080/"
        },
        "id": "wvYYEOO3nVqe",
        "outputId": "73c19dc3-d4eb-468c-a382-3ae16a710451"
      },
      "execution_count": 54,
      "outputs": [
        {
          "output_type": "execute_result",
          "data": {
            "text/plain": [
              "Index(['Category', 'Message'], dtype='object')"
            ]
          },
          "metadata": {},
          "execution_count": 54
        }
      ]
    },
    {
      "cell_type": "code",
      "source": [
        "df.isna().sum()"
      ],
      "metadata": {
        "colab": {
          "base_uri": "https://localhost:8080/"
        },
        "id": "jA33jpIZ3jzl",
        "outputId": "697b45d6-fc43-489c-a566-793714e5d12d"
      },
      "execution_count": 55,
      "outputs": [
        {
          "output_type": "execute_result",
          "data": {
            "text/plain": [
              "Category    0\n",
              "Message     0\n",
              "dtype: int64"
            ]
          },
          "metadata": {},
          "execution_count": 55
        }
      ]
    },
    {
      "cell_type": "code",
      "source": [
        "#Check if there are duplicated samples in the data\n",
        "df.duplicated().sum()"
      ],
      "metadata": {
        "colab": {
          "base_uri": "https://localhost:8080/"
        },
        "id": "oKZoev6r3nZI",
        "outputId": "405b265e-2aeb-464c-9711-d5032ab81d83"
      },
      "execution_count": 56,
      "outputs": [
        {
          "output_type": "execute_result",
          "data": {
            "text/plain": [
              "403"
            ]
          },
          "metadata": {},
          "execution_count": 56
        }
      ]
    },
    {
      "cell_type": "code",
      "source": [
        "#Now let's drop the duplicated samples and check it out again\n",
        "df = df.drop_duplicates(keep='first')\n",
        "df.duplicated().sum()"
      ],
      "metadata": {
        "colab": {
          "base_uri": "https://localhost:8080/"
        },
        "id": "FmLdE1Ho3suk",
        "outputId": "d1f76f39-fe8d-44cc-8531-f507180aa990"
      },
      "execution_count": 57,
      "outputs": [
        {
          "output_type": "execute_result",
          "data": {
            "text/plain": [
              "0"
            ]
          },
          "metadata": {},
          "execution_count": 57
        }
      ]
    },
    {
      "cell_type": "code",
      "source": [
        "#Visualize Distribution of Email Categories\n",
        "number_of_spam = df[df['Category'] == 'spam'].shape[0]\n",
        "number_of_ham = df[df['Category'] == 'ham'].shape[0]\n",
        "\n",
        "plt.figure(figsize=(7,6))\n",
        "\n",
        "mail_categories = [number_of_ham, number_of_spam]\n",
        "labels = [f\"Ham = {number_of_ham}\", f\"Spam = {number_of_spam}\"]\n",
        "explode = [.2, 0]\n",
        "\n",
        "plt.pie(mail_categories, labels=labels, explode=explode, autopct=\"%.2f %%\")\n",
        "plt.title(\"Ham vs Spam\")\n",
        "\n",
        "plt.show()"
      ],
      "metadata": {
        "colab": {
          "base_uri": "https://localhost:8080/",
          "height": 521
        },
        "id": "Cn12Xgdf3yDP",
        "outputId": "1e8af9bf-259e-49f5-89ef-c28813665f79"
      },
      "execution_count": 58,
      "outputs": [
        {
          "output_type": "display_data",
          "data": {
            "text/plain": [
              "<Figure size 700x600 with 1 Axes>"
            ],
            "image/png": "[encoded data removed]"
          },
          "metadata": {}
        }
      ]
    },
    {
      "cell_type": "code",
      "source": [
        "#Make a 'spam' column and replace spams with 1 and replace hams with 0\n",
        "encoder = LabelEncoder()\n",
        "df['spam'] = encoder.fit_transform(df['Category'])\n",
        "df.head()"
      ],
      "metadata": {
        "colab": {
          "base_uri": "https://localhost:8080/",
          "height": 206
        },
        "id": "o_zzv38S36-Z",
        "outputId": "fd6e2a20-270b-4d6a-ba6f-9ff27dbba3e0"
      },
      "execution_count": 59,
      "outputs": [
        {
          "output_type": "execute_result",
          "data": {
            "text/plain": [
              "  Category                                            Message  spam\n",
              "0      ham  Go until jurong point, crazy.. Available only ...     0\n",
              "1      ham                      Ok lar... Joking wif u oni...     0\n",
              "2     spam  Free entry in 2 a wkly comp to win FA Cup fina...     1\n",
              "3      ham  U dun say so early hor... U c already then say...     0\n",
              "4      ham  Nah I don't think he goes to usf, he lives aro...     0"
            ],
            "text/html": [
              "\n",
              "  <div id=\"df-e9a6f67d-e7e4-447f-8ebc-dbff5c941673\" class=\"colab-df-container\">\n",
              "    <div>\n",
              "<style scoped>\n",
              "    .dataframe tbody tr th:only-of-type {\n",
              "        vertical-align: middle;\n",
              "    }\n",
              "\n",
              "    .dataframe tbody tr th {\n",
              "        vertical-align: top;\n",
              "    }\n",
              "\n",
              "    .dataframe thead th {\n",
              "        text-align: right;\n",
              "    }\n",
              "</style>\n",
              "<table border=\"1\" class=\"dataframe\">\n",
              "  <thead>\n",
              "    <tr style=\"text-align: right;\">\n",
              "      <th></th>\n",
              "      <th>Category</th>\n",
              "      <th>Message</th>\n",
              "      <th>spam</th>\n",
              "    </tr>\n",
              "  </thead>\n",
              "  <tbody>\n",
              "    <tr>\n",
              "      <th>0</th>\n",
              "      <td>ham</td>\n",
              "      <td>Go until jurong point, crazy.. Available only ...</td>\n",
              "      <td>0</td>\n",
              "    </tr>\n",
              "    <tr>\n",
              "      <th>1</th>\n",
              "      <td>ham</td>\n",
              "      <td>Ok lar... Joking wif u oni...</td>\n",
              "      <td>0</td>\n",
              "    </tr>\n",
              "    <tr>\n",
              "      <th>2</th>\n",
              "      <td>spam</td>\n",
              "      <td>Free entry in 2 a wkly comp to win FA Cup fina...</td>\n",
              "      <td>1</td>\n",
              "    </tr>\n",
              "    <tr>\n",
              "      <th>3</th>\n",
              "      <td>ham</td>\n",
              "      <td>U dun say so early hor... U c already then say...</td>\n",
              "      <td>0</td>\n",
              "    </tr>\n",
              "    <tr>\n",
              "      <th>4</th>\n",
              "      <td>ham</td>\n",
              "      <td>Nah I don't think he goes to usf, he lives aro...</td>\n",
              "      <td>0</td>\n",
              "    </tr>\n",
              "  </tbody>\n",
              "</table>\n",
              "</div>\n",
              "    <div class=\"colab-df-buttons\">\n",
              "\n",
              "  <div class=\"colab-df-container\">\n",
              "    <button class=\"colab-df-convert\" onclick=\"convertToInteractive('df-e9a6f67d-e7e4-447f-8ebc-dbff5c941673')\"\n",
              "            title=\"Convert this dataframe to an interactive table.\"\n",
              "            style=\"display:none;\">\n",
              "\n",
              "  <svg xmlns=\"http://www.w3.org/2000/svg\" height=\"24px\" viewBox=\"0 -960 960 960\">\n",
              "    <path d=\"M120-120v-720h720v720H120Zm60-500h600v-160H180v160Zm220 220h160v-160H400v160Zm0 220h160v-160H400v160ZM180-400h160v-160H180v160Zm440 0h160v-160H620v160ZM180-180h160v-160H180v160Zm440 0h160v-160H620v160Z\"/>\n",
              "  </svg>\n",
              "    </button>\n",
              "\n",
              "  <style>\n",
              "    .colab-df-container {\n",
              "      display:flex;\n",
              "      gap: 12px;\n",
              "    }\n",
              "\n",
              "    .colab-df-convert {\n",
              "      background-color: #E8F0FE;\n",
              "      border: none;\n",
              "      border-radius: 50%;\n",
              "      cursor: pointer;\n",
              "      display: none;\n",
              "      fill: #1967D2;\n",
              "      height: 32px;\n",
              "      padding: 0 0 0 0;\n",
              "      width: 32px;\n",
              "    }\n",
              "\n",
              "    .colab-df-convert:hover {\n",
              "      background-color: #E2EBFA;\n",
              "      box-shadow: 0px 1px 2px rgba(60, 64, 67, 0.3), 0px 1px 3px 1px rgba(60, 64, 67, 0.15);\n",
              "      fill: #174EA6;\n",
              "    }\n",
              "\n",
              "    .colab-df-buttons div {\n",
              "      margin-bottom: 4px;\n",
              "    }\n",
              "\n",
              "    [theme=dark] .colab-df-convert {\n",
              "      background-color: #3B4455;\n",
              "      fill: #D2E3FC;\n",
              "    }\n",
              "\n",
              "    [theme=dark] .colab-df-convert:hover {\n",
              "      background-color: #434B5C;\n",
              "      box-shadow: 0px 1px 3px 1px rgba(0, 0, 0, 0.15);\n",
              "      filter: drop-shadow(0px 1px 2px rgba(0, 0, 0, 0.3));\n",
              "      fill: #FFFFFF;\n",
              "    }\n",
              "  </style>\n",
              "\n",
              "    <script>\n",
              "      const buttonEl =\n",
              "        document.querySelector('#df-e9a6f67d-e7e4-447f-8ebc-dbff5c941673 button.colab-df-convert');\n",
              "      buttonEl.style.display =\n",
              "        google.colab.kernel.accessAllowed ? 'block' : 'none';\n",
              "\n",
              "      async function convertToInteractive(key) {\n",
              "        const element = document.querySelector('#df-e9a6f67d-e7e4-447f-8ebc-dbff5c941673');\n",
              "        const dataTable =\n",
              "          await google.colab.kernel.invokeFunction('convertToInteractive',\n",
              "                                                    [key], {});\n",
              "        if (!dataTable) return;\n",
              "\n",
              "        const docLinkHtml = 'Like what you see? Visit the ' +\n",
              "          '<a target=\"_blank\" href=https://colab.research.google.com/notebooks/data_table.ipynb>data table notebook</a>'\n",
              "          + ' to learn more about interactive tables.';\n",
              "        element.innerHTML = '';\n",
              "        dataTable['output_type'] = 'display_data';\n",
              "        await google.colab.output.renderOutput(dataTable, element);\n",
              "        const docLink = document.createElement('div');\n",
              "        docLink.innerHTML = docLinkHtml;\n",
              "        element.appendChild(docLink);\n",
              "      }\n",
              "    </script>\n",
              "  </div>\n",
              "\n",
              "\n",
              "<div id=\"df-3e902317-8b8c-4935-9db8-7ecc453277cc\">\n",
              "  <button class=\"colab-df-quickchart\" onclick=\"quickchart('df-3e902317-8b8c-4935-9db8-7ecc453277cc')\"\n",
              "            title=\"Suggest charts\"\n",
              "            style=\"display:none;\">\n",
              "\n",
              "<svg xmlns=\"http://www.w3.org/2000/svg\" height=\"24px\"viewBox=\"0 0 24 24\"\n",
              "     width=\"24px\">\n",
              "    <g>\n",
              "        <path d=\"M19 3H5c-1.1 0-2 .9-2 2v14c0 1.1.9 2 2 2h14c1.1 0 2-.9 2-2V5c0-1.1-.9-2-2-2zM9 17H7v-7h2v7zm4 0h-2V7h2v10zm4 0h-2v-4h2v4z\"/>\n",
              "    </g>\n",
              "</svg>\n",
              "  </button>\n",
              "\n",
              "<style>\n",
              "  .colab-df-quickchart {\n",
              "      --bg-color: #E8F0FE;\n",
              "      --fill-color: #1967D2;\n",
              "      --hover-bg-color: #E2EBFA;\n",
              "      --hover-fill-color: #174EA6;\n",
              "      --disabled-fill-color: #AAA;\n",
              "      --disabled-bg-color: #DDD;\n",
              "  }\n",
              "\n",
              "  [theme=dark] .colab-df-quickchart {\n",
              "      --bg-color: #3B4455;\n",
              "      --fill-color: #D2E3FC;\n",
              "      --hover-bg-color: #434B5C;\n",
              "      --hover-fill-color: #FFFFFF;\n",
              "      --disabled-bg-color: #3B4455;\n",
              "      --disabled-fill-color: #666;\n",
              "  }\n",
              "\n",
              "  .colab-df-quickchart {\n",
              "    background-color: var(--bg-color);\n",
              "    border: none;\n",
              "    border-radius: 50%;\n",
              "    cursor: pointer;\n",
              "    display: none;\n",
              "    fill: var(--fill-color);\n",
              "    height: 32px;\n",
              "    padding: 0;\n",
              "    width: 32px;\n",
              "  }\n",
              "\n",
              "  .colab-df-quickchart:hover {\n",
              "    background-color: var(--hover-bg-color);\n",
              "    box-shadow: 0 1px 2px rgba(60, 64, 67, 0.3), 0 1px 3px 1px rgba(60, 64, 67, 0.15);\n",
              "    fill: var(--button-hover-fill-color);\n",
              "  }\n",
              "\n",
              "  .colab-df-quickchart-complete:disabled,\n",
              "  .colab-df-quickchart-complete:disabled:hover {\n",
              "    background-color: var(--disabled-bg-color);\n",
              "    fill: var(--disabled-fill-color);\n",
              "    box-shadow: none;\n",
              "  }\n",
              "\n",
              "  .colab-df-spinner {\n",
              "    border: 2px solid var(--fill-color);\n",
              "    border-color: transparent;\n",
              "    border-bottom-color: var(--fill-color);\n",
              "    animation:\n",
              "      spin 1s steps(1) infinite;\n",
              "  }\n",
              "\n",
              "  @keyframes spin {\n",
              "    0% {\n",
              "      border-color: transparent;\n",
              "      border-bottom-color: var(--fill-color);\n",
              "      border-left-color: var(--fill-color);\n",
              "    }\n",
              "    20% {\n",
              "      border-color: transparent;\n",
              "      border-left-color: var(--fill-color);\n",
              "      border-top-color: var(--fill-color);\n",
              "    }\n",
              "    30% {\n",
              "      border-color: transparent;\n",
              "      border-left-color: var(--fill-color);\n",
              "      border-top-color: var(--fill-color);\n",
              "      border-right-color: var(--fill-color);\n",
              "    }\n",
              "    40% {\n",
              "      border-color: transparent;\n",
              "      border-right-color: var(--fill-color);\n",
              "      border-top-color: var(--fill-color);\n",
              "    }\n",
              "    60% {\n",
              "      border-color: transparent;\n",
              "      border-right-color: var(--fill-color);\n",
              "    }\n",
              "    80% {\n",
              "      border-color: transparent;\n",
              "      border-right-color: var(--fill-color);\n",
              "      border-bottom-color: var(--fill-color);\n",
              "    }\n",
              "    90% {\n",
              "      border-color: transparent;\n",
              "      border-bottom-color: var(--fill-color);\n",
              "    }\n",
              "  }\n",
              "</style>\n",
              "\n",
              "  <script>\n",
              "    async function quickchart(key) {\n",
              "      const quickchartButtonEl =\n",
              "        document.querySelector('#' + key + ' button');\n",
              "      quickchartButtonEl.disabled = true;  // To prevent multiple clicks.\n",
              "      quickchartButtonEl.classList.add('colab-df-spinner');\n",
              "      try {\n",
              "        const charts = await google.colab.kernel.invokeFunction(\n",
              "            'suggestCharts', [key], {});\n",
              "      } catch (error) {\n",
              "        console.error('Error during call to suggestCharts:', error);\n",
              "      }\n",
              "      quickchartButtonEl.classList.remove('colab-df-spinner');\n",
              "      quickchartButtonEl.classList.add('colab-df-quickchart-complete');\n",
              "    }\n",
              "    (() => {\n",
              "      let quickchartButtonEl =\n",
              "        document.querySelector('#df-3e902317-8b8c-4935-9db8-7ecc453277cc button');\n",
              "      quickchartButtonEl.style.display =\n",
              "        google.colab.kernel.accessAllowed ? 'block' : 'none';\n",
              "    })();\n",
              "  </script>\n",
              "</div>\n",
              "\n",
              "    </div>\n",
              "  </div>\n"
            ],
            "application/vnd.google.colaboratory.intrinsic+json": {
              "type": "dataframe",
              "variable_name": "df",
              "summary": "{\n  \"name\": \"df\",\n  \"rows\": 5169,\n  \"fields\": [\n    {\n      \"column\": \"Category\",\n      \"properties\": {\n        \"dtype\": \"category\",\n        \"num_unique_values\": 2,\n        \"samples\": [\n          \"spam\",\n          \"ham\"\n        ],\n        \"semantic_type\": \"\",\n        \"description\": \"\"\n      }\n    },\n    {\n      \"column\": \"Message\",\n      \"properties\": {\n        \"dtype\": \"string\",\n        \"num_unique_values\": 5169,\n        \"samples\": [\n          \"Did u download the fring app?\",\n          \"Pass dis to all ur contacts n see wat u get! Red;i'm in luv wid u. Blue;u put a smile on my face. Purple;u r realy hot. Pink;u r so swt. Orange;i thnk i lyk u. Green;i realy wana go out wid u. Yelow;i wnt u bck. Black;i'm jealous of u. Brown;i miss you Nw plz giv me one color\"\n        ],\n        \"semantic_type\": \"\",\n        \"description\": \"\"\n      }\n    },\n    {\n      \"column\": \"spam\",\n      \"properties\": {\n        \"dtype\": \"number\",\n        \"std\": 0,\n        \"min\": 0,\n        \"max\": 1,\n        \"num_unique_values\": 2,\n        \"samples\": [\n          1,\n          0\n        ],\n        \"semantic_type\": \"\",\n        \"description\": \"\"\n      }\n    }\n  ]\n}"
            }
          },
          "metadata": {},
          "execution_count": 59
        }
      ]
    },
    {
      "cell_type": "code",
      "source": [
        "#Now we don't need \"Category\" column anymore, let's delete it\n",
        "df.drop('Category', inplace = True, axis = 1)\n"
      ],
      "metadata": {
        "id": "Zx5jIygw4Bif"
      },
      "execution_count": 60,
      "outputs": []
    },
    {
      "cell_type": "code",
      "source": [
        "#Split the data to Train_set and Test_set\n",
        "x = df['Message']\n",
        "y = df['spam']\n",
        "x_train, x_test, y_train, y_test = train_test_split(x,y,test_size = 0.2 , random_state = 42)"
      ],
      "metadata": {
        "id": "rTZd3xqT4J-U"
      },
      "execution_count": 61,
      "outputs": []
    },
    {
      "cell_type": "code",
      "source": [
        "vectorizer = CountVectorizer()\n",
        "x_train_counts = vectorizer.fit_transform(x_train)"
      ],
      "metadata": {
        "id": "XP6iL1Rn4qSf"
      },
      "execution_count": 62,
      "outputs": []
    },
    {
      "cell_type": "code",
      "source": [
        "classifier = MultinomialNB()\n",
        "classifier.fit(x_train_counts, y_train)"
      ],
      "metadata": {
        "colab": {
          "base_uri": "https://localhost:8080/",
          "height": 75
        },
        "id": "d70dB4eJ5mNu",
        "outputId": "4a7f2751-4edd-400b-8cd3-665819e6451d"
      },
      "execution_count": 63,
      "outputs": [
        {
          "output_type": "execute_result",
          "data": {
            "text/plain": [
              "MultinomialNB()"
            ],
            "text/html": [
              "<style>#sk-container-id-1 {color: black;background-color: white;}#sk-container-id-1 pre{padding: 0;}#sk-container-id-1 div.sk-toggleable {background-color: white;}#sk-container-id-1 label.sk-toggleable__label {cursor: pointer;display: block;width: 100%;margin-bottom: 0;padding: 0.3em;box-sizing: border-box;text-align: center;}#sk-container-id-1 label.sk-toggleable__label-arrow:before {content: \"▸\";float: left;margin-right: 0.25em;color: #696969;}#sk-container-id-1 label.sk-toggleable__label-arrow:hover:before {color: black;}#sk-container-id-1 div.sk-estimator:hover label.sk-toggleable__label-arrow:before {color: black;}#sk-container-id-1 div.sk-toggleable__content {max-height: 0;max-width: 0;overflow: hidden;text-align: left;background-color: #f0f8ff;}#sk-container-id-1 div.sk-toggleable__content pre {margin: 0.2em;color: black;border-radius: 0.25em;background-color: #f0f8ff;}#sk-container-id-1 input.sk-toggleable__control:checked~div.sk-toggleable__content {max-height: 200px;max-width: 100%;overflow: auto;}#sk-container-id-1 input.sk-toggleable__control:checked~label.sk-toggleable__label-arrow:before {content: \"▾\";}#sk-container-id-1 div.sk-estimator input.sk-toggleable__control:checked~label.sk-toggleable__label {background-color: #d4ebff;}#sk-container-id-1 div.sk-label input.sk-toggleable__control:checked~label.sk-toggleable__label {background-color: #d4ebff;}#sk-container-id-1 input.sk-hidden--visually {border: 0;clip: rect(1px 1px 1px 1px);clip: rect(1px, 1px, 1px, 1px);height: 1px;margin: -1px;overflow: hidden;padding: 0;position: absolute;width: 1px;}#sk-container-id-1 div.sk-estimator {font-family: monospace;background-color: #f0f8ff;border: 1px dotted black;border-radius: 0.25em;box-sizing: border-box;margin-bottom: 0.5em;}#sk-container-id-1 div.sk-estimator:hover {background-color: #d4ebff;}#sk-container-id-1 div.sk-parallel-item::after {content: \"\";width: 100%;border-bottom: 1px solid gray;flex-grow: 1;}#sk-container-id-1 div.sk-label:hover label.sk-toggleable__label {background-color: #d4ebff;}#sk-container-id-1 div.sk-serial::before {content: \"\";position: absolute;border-left: 1px solid gray;box-sizing: border-box;top: 0;bottom: 0;left: 50%;z-index: 0;}#sk-container-id-1 div.sk-serial {display: flex;flex-direction: column;align-items: center;background-color: white;padding-right: 0.2em;padding-left: 0.2em;position: relative;}#sk-container-id-1 div.sk-item {position: relative;z-index: 1;}#sk-container-id-1 div.sk-parallel {display: flex;align-items: stretch;justify-content: center;background-color: white;position: relative;}#sk-container-id-1 div.sk-item::before, #sk-container-id-1 div.sk-parallel-item::before {content: \"\";position: absolute;border-left: 1px solid gray;box-sizing: border-box;top: 0;bottom: 0;left: 50%;z-index: -1;}#sk-container-id-1 div.sk-parallel-item {display: flex;flex-direction: column;z-index: 1;position: relative;background-color: white;}#sk-container-id-1 div.sk-parallel-item:first-child::after {align-self: flex-end;width: 50%;}#sk-container-id-1 div.sk-parallel-item:last-child::after {align-self: flex-start;width: 50%;}#sk-container-id-1 div.sk-parallel-item:only-child::after {width: 0;}#sk-container-id-1 div.sk-dashed-wrapped {border: 1px dashed gray;margin: 0 0.4em 0.5em 0.4em;box-sizing: border-box;padding-bottom: 0.4em;background-color: white;}#sk-container-id-1 div.sk-label label {font-family: monospace;font-weight: bold;display: inline-block;line-height: 1.2em;}#sk-container-id-1 div.sk-label-container {text-align: center;}#sk-container-id-1 div.sk-container {/* jupyter's `normalize.less` sets `[hidden] { display: none; }` but bootstrap.min.css set `[hidden] { display: none !important; }` so we also need the `!important` here to be able to override the default hidden behavior on the sphinx rendered scikit-learn.org. See: https://github.com/scikit-learn/scikit-learn/issues/21755 */display: inline-block !important;position: relative;}#sk-container-id-1 div.sk-text-repr-fallback {display: none;}</style><div id=\"sk-container-id-1\" class=\"sk-top-container\"><div class=\"sk-text-repr-fallback\"><pre>MultinomialNB()</pre><b>In a Jupyter environment, please rerun this cell to show the HTML representation or trust the notebook. <br />On GitHub, the HTML representation is unable to render, please try loading this page with nbviewer.org.</b></div><div class=\"sk-container\" hidden><div class=\"sk-item\"><div class=\"sk-estimator sk-toggleable\"><input class=\"sk-toggleable__control sk-hidden--visually\" id=\"sk-estimator-id-1\" type=\"checkbox\" checked><label for=\"sk-estimator-id-1\" class=\"sk-toggleable__label sk-toggleable__label-arrow\">MultinomialNB</label><div class=\"sk-toggleable__content\"><pre>MultinomialNB()</pre></div></div></div></div></div>"
            ]
          },
          "metadata": {},
          "execution_count": 63
        }
      ]
    },
    {
      "cell_type": "code",
      "source": [
        "#Now, let's create a bag-of-words representation using CountVectorizer, this time for the test data x_test\n",
        "x_test_counts = vectorizer.transform(x_test)\n",
        "y_pred = classifier.predict(x_test_counts)"
      ],
      "metadata": {
        "id": "vzWDQEOW5o6c"
      },
      "execution_count": 65,
      "outputs": []
    },
    {
      "cell_type": "code",
      "source": [
        "#Display the confusion matrix\n",
        "confusion_matrix = confusion_matrix(y_test, y_pred)\n",
        "cm_display = ConfusionMatrixDisplay(confusion_matrix = confusion_matrix, display_labels = [\"Ham\", \"Spam\"])\n",
        "cm_display.plot()\n",
        "plt.show()\n"
      ],
      "metadata": {
        "colab": {
          "base_uri": "https://localhost:8080/",
          "height": 449
        },
        "id": "8BePiFgz5vie",
        "outputId": "0738f940-f2ca-4fc3-98c5-5bd55e610b7a"
      },
      "execution_count": 66,
      "outputs": [
        {
          "output_type": "display_data",
          "data": {
            "text/plain": [
              "<Figure size 640x480 with 2 Axes>"
            ],
            "image/png": "[encoded data removed]"
          },
          "metadata": {}
        }
      ]
    },
    {
      "cell_type": "code",
      "source": [
        "print(classification_report(y_test, y_pred))"
      ],
      "metadata": {
        "colab": {
          "base_uri": "https://localhost:8080/"
        },
        "id": "vZQ-7o5b56n2",
        "outputId": "450dab99-41d4-4f92-a785-663cd5ff7a16"
      },
      "execution_count": 67,
      "outputs": [
        {
          "output_type": "stream",
          "name": "stdout",
          "text": [
            "              precision    recall  f1-score   support\n",
            "\n",
            "           0       0.99      1.00      0.99       889\n",
            "           1       0.99      0.91      0.95       145\n",
            "\n",
            "    accuracy                           0.99      1034\n",
            "   macro avg       0.99      0.95      0.97      1034\n",
            "weighted avg       0.99      0.99      0.99      1034\n",
            "\n"
          ]
        }
      ]
    },
    {
      "cell_type": "code",
      "source": [
        "#Test the model with some emailes\n",
        "emails = [\n",
        "    \"Hey mohammad, I'm at the Ms.Salahshor class wating for you, where are you?\",\n",
        "\n",
        "    'Upto 20% discount on parking, exclusive offer just for you. Dont miss this reward!',\n",
        "\n",
        "    '''Join us on Saturday, February 24 at 14:00 UTC on our YouTube channel to take this\n",
        "    interactive lesson, taught by Tutor Darryl.'''\n",
        "]\n",
        "\n",
        "emails_count = vectorizer.transform(emails)\n",
        "classifier.predict(emails_count)"
      ],
      "metadata": {
        "colab": {
          "base_uri": "https://localhost:8080/"
        },
        "id": "WHR32jiB595g",
        "outputId": "21df99ab-3e5e-4f6a-ce8d-6579b270ed10"
      },
      "execution_count": 68,
      "outputs": [
        {
          "output_type": "execute_result",
          "data": {
            "text/plain": [
              "array([0, 1, 1])"
            ]
          },
          "metadata": {},
          "execution_count": 68
        }
      ]
    },
    {
      "cell_type": "markdown",
      "source": [
        "SVM\n"
      ],
      "metadata": {
        "id": "NHJvOuyz752L"
      }
    },
    {
      "cell_type": "code",
      "source": [
        "from subprocess import check_output\n",
        "import pandas as pd\n",
        "import re\n",
        "from nltk.corpus import stopwords\n",
        "from sklearn import svm"
      ],
      "metadata": {
        "id": "NFtDRfJp6F8d"
      },
      "execution_count": 70,
      "outputs": []
    },
    {
      "cell_type": "code",
      "source": [
        "email=pd.read_csv(\"/content/spam.csv\",encoding='latin-1')\n",
        "email=email.rename(columns = {'v1':'label','v2':'message'})\n",
        "cols=['label','message']\n",
        "email=email[cols]\n",
        "email=email.dropna(axis=0, how='any')\n",
        "\n",
        "#Email preprocessing\n",
        "num_emails=email[\"message\"].size\n",
        "def email_processing(raw_email):\n",
        "    letters_only=re.sub(\"[^a-zA-Z]\",\" \",raw_email)\n",
        "    words=letters_only.lower().split()\n",
        "    stops=set(stopwords.words(\"english\"))\n",
        "    m_w=[w for w in words if not w in stops]\n",
        "    return (\" \".join(m_w))\n"
      ],
      "metadata": {
        "id": "FNyeQnmI7Idx"
      },
      "execution_count": 72,
      "outputs": []
    },
    {
      "cell_type": "code",
      "source": [
        "\n",
        "clean_email=[]\n",
        "for i in range(0,num_emails):\n",
        "    clean_email.append(email_processing(email[\"message\"][i]))\n",
        "\n",
        "#Create new dataframe column\n",
        "email[\"Processed_Msg\"]=clean_email\n",
        "cols2=[\"Processed_Msg\",\"label\"]\n",
        "email=email[cols2]\n",
        "\n",
        "#Create train and test sets\n",
        "X_train=email[\"Processed_Msg\"][:5000]\n",
        "Y_train=email[\"label\"][:5000]\n",
        "X_test=email[\"Processed_Msg\"][5001:5500]\n",
        "Y_test=email[\"label\"][5001:5500]"
      ],
      "metadata": {
        "id": "RJuYcq807f1l"
      },
      "execution_count": 73,
      "outputs": []
    },
    {
      "cell_type": "code",
      "source": [
        "import numpy as np\n",
        "from sklearn.feature_extraction.text import CountVectorizer\n",
        "vectorizer=CountVectorizer(analyzer = \"word\",tokenizer = None,preprocessor = None,stop_words = None,max_features = 5000)\n",
        "\n",
        "train_data_features=vectorizer.fit_transform(X_train)\n",
        "train_data_features=train_data_features.toarray()\n",
        "\n",
        "test_data_features=vectorizer.transform(X_test)\n",
        "test_data_features=test_data_features.toarray()\n",
        "\n",
        "#SVM with linear kernel\n",
        "clf=svm.SVC(kernel='linear',C=1.0)\n",
        "print (\"Training\")\n",
        "clf.fit(train_data_features,Y_train)\n",
        "\n",
        "print (\"Testing\")\n",
        "predicted=clf.predict(test_data_features)\n",
        "accuracy=np.mean(predicted==Y_test)\n",
        "print (\"Accuracy: \",accuracy)"
      ],
      "metadata": {
        "colab": {
          "base_uri": "https://localhost:8080/"
        },
        "id": "lsvbosyK7mUm",
        "outputId": "1db07384-3230-49ae-84b7-0d7d6156d1de"
      },
      "execution_count": 74,
      "outputs": [
        {
          "output_type": "stream",
          "name": "stdout",
          "text": [
            "Training\n",
            "Testing\n",
            "Accuracy:  0.9879759519038076\n"
          ]
        }
      ]
    },
    {
      "cell_type": "code",
      "source": [
        "#Validation\n",
        "X=email[\"Processed_Msg\"][5501:5502]\n",
        "validation_data=vectorizer.transform(X)\n",
        "validation_data=validation_data.toarray()\n",
        "\n",
        "print (\"SMS: \",X)\n",
        "classification=clf.predict(validation_data)\n",
        "print (\"Classification: \",classification)"
      ],
      "metadata": {
        "colab": {
          "base_uri": "https://localhost:8080/"
        },
        "id": "IAlGh9xF7plp",
        "outputId": "081925dd-bb99-4ed2-d706-646c41a03e45"
      },
      "execution_count": 76,
      "outputs": [
        {
          "output_type": "stream",
          "name": "stdout",
          "text": [
            "SMS:  5501    private account statement shows un redeemed po...\n",
            "Name: Processed_Msg, dtype: object\n",
            "Classification:  ['spam']\n"
          ]
        }
      ]
    },
    {
      "cell_type": "code",
      "source": [],
      "metadata": {
        "id": "FG_CO3lm7yfp"
      },
      "execution_count": null,
      "outputs": []
    }
  ]
}